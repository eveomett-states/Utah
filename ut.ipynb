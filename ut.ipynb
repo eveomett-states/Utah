{
 "cells": [
  {
   "cell_type": "code",
   "execution_count": 1,
   "metadata": {},
   "outputs": [],
   "source": [
    "import pandas as pd\n",
    "import geopandas as gpd\n",
    "import maup\n",
    "import time\n",
    "from maup import smart_repair\n",
    "from gerrychain import Graph\n",
    "\n",
    "maup.progress.enabled = True"
   ]
  },
  {
   "cell_type": "code",
   "execution_count": 2,
   "metadata": {},
   "outputs": [],
   "source": [
    "import warnings\n",
    "warnings.filterwarnings(\"ignore\")"
   ]
  },
  {
   "cell_type": "code",
   "execution_count": 3,
   "metadata": {},
   "outputs": [],
   "source": [
    "# state = Utah\n",
    "state_ab = \"ut\""
   ]
  },
  {
   "cell_type": "markdown",
   "metadata": {},
   "source": [
    "## Data\n",
    "1. Download all the data in directory \"ut_data\"\n",
    "2. Extract them all"
   ]
  },
  {
   "cell_type": "code",
   "execution_count": 4,
   "metadata": {},
   "outputs": [],
   "source": [
    "data_folder = state_ab + \"_data/\"\n",
    "population1_data = \"./{}{}_pl2020_b/{}_pl2020_p1_b.shp\".format(data_folder, state_ab, state_ab)\n",
    "population2_data = \"./{}{}_pl2020_b/{}_pl2020_p2_b.shp\".format(data_folder, state_ab, state_ab)\n",
    "vap_data =  \"./{}{}_pl2020_b/{}_pl2020_p4_b.shp\".format(data_folder, state_ab, state_ab)\n",
    "vest20_data = \"./{}{}_vest_20/{}_vest_20.shp\".format(data_folder, state_ab, state_ab)\n",
    "vest18_data = \"./{}{}_vest_18/{}_vest_18.shp\".format(data_folder, state_ab, state_ab)\n",
    "vest16_data = \"./{}{}_vest_16/{}_vest_16.shp\".format(data_folder, state_ab, state_ab)\n",
    "cd_data = \"./{}{}_cong_2021/ut_cong_2021.shp\".format(data_folder, state_ab)\n",
    "send_data = \"./{}{}_sldu_2021/ut_sldu_2021.shp\".format(data_folder, state_ab)\n",
    "hdist_data = \"./{}{}_sldl_2021/ut_sldl_2021.shp\".format(data_folder, state_ab)"
   ]
  },
  {
   "cell_type": "code",
   "execution_count": 5,
   "metadata": {},
   "outputs": [],
   "source": [
    "def do_smart_repair(df):\n",
    "    # change it to the UTM it needs for smart_repair\n",
    "    df = df.to_crs(df.estimate_utm_crs())\n",
    "    df = smart_repair(df)\n",
    "    if maup.doctor(df):\n",
    "        print('smart_repair successful')\n",
    "            \n",
    "        # change it back to this UTM for this data\n",
    "        df = df.to_crs('EPSG:4269')\n",
    "    else:\n",
    "        raise Exception('smart_repair failed')\n",
    "    return df"
   ]
  },
  {
   "cell_type": "code",
   "execution_count": 6,
   "metadata": {},
   "outputs": [],
   "source": [
    "def add_district(dist_df, dist_name, election_df, col_name):\n",
    "    # check if it needs to be smart_repair\n",
    "    if maup.doctor(dist_df) != True:\n",
    "        dist_df = do_smart_repair(dist_df)\n",
    "    \n",
    "    election_df = gpd.GeoDataFrame(election_df, crs=\"EPSG:4269\")\n",
    "    \n",
    "    # assign the pricincts\n",
    "    precincts_to_district_assignment = maup.assign(election_df.geometry, dist_df.geometry)\n",
    "    election_df[dist_name] = precincts_to_district_assignment\n",
    "    for precinct_index in range(len(election_df)):\n",
    "        election_df.at[precinct_index, dist_name] = dist_df.at[election_df.at[precinct_index, dist_name], col_name]\n",
    "    \n",
    "    return election_df"
   ]
  },
  {
   "cell_type": "code",
   "execution_count": 7,
   "metadata": {},
   "outputs": [],
   "source": [
    "def rename(original, year):\n",
    "    party = original[6]\n",
    "    if party == 'R' or party == 'D':\n",
    "        return original[3:6] + year + original[6]\n",
    "    else:\n",
    "        return original[3:6] + year + 'O'"
   ]
  },
  {
   "cell_type": "code",
   "execution_count": 8,
   "metadata": {},
   "outputs": [],
   "source": [
    "pop_col = ['TOTPOP', 'HISP', 'NH_WHITE', 'NH_BLACK', 'NH_AMIN', 'NH_ASIAN', 'NH_NHPI', 'NH_OTHER', 'NH_2MORE', 'H_WHITE', 'H_BLACK', 'H_AMIN', 'H_ASIAN', 'H_NHPI', 'H_OTHER', 'H_2MORE', 'VAP', 'HVAP', 'WVAP', 'BVAP', 'AMINVAP', 'ASIANVAP', 'NHPIVAP', 'OTHERVAP', '2MOREVAP']"
   ]
  },
  {
   "cell_type": "code",
   "execution_count": 9,
   "metadata": {},
   "outputs": [],
   "source": [
    "def check_population(population, df):\n",
    "    pop_check = pd.DataFrame({\n",
    "        'pop_col': pop_col,\n",
    "        'population_df': population[pop_col].sum(), \n",
    "        'vest_base': df[pop_col].sum(),\n",
    "        'equal': [x == y for x, y in zip(population[pop_col].sum(), df[pop_col].sum())]\n",
    "    })\n",
    "    if pop_check['equal'].mean() < 1:\n",
    "        print(pop_check)\n",
    "        raise Exception(\"population doesn't agree\")\n",
    "\n",
    "    else:\n",
    "        print(\"population agrees\")"
   ]
  },
  {
   "cell_type": "code",
   "execution_count": 10,
   "metadata": {},
   "outputs": [],
   "source": [
    "def add_vest(vest, df, year, population, start_col):    \n",
    "     # check if it needs to be smart_repair\n",
    "    if maup.doctor(vest) != True:\n",
    "        vest = do_smart_repair(vest)\n",
    "    \n",
    "    # rename the columns\n",
    "    original_col = vest.columns[start_col:-1]\n",
    "    new_col = [rename(i, year) for i in original_col]\n",
    "    rename_dict = dict(zip(original_col, new_col))\n",
    "    vest = vest.rename(columns=rename_dict)\n",
    "    vest = vest.groupby(level=0, axis=1).sum() # combine all the other party's vote into columns with sufix \"O\"\n",
    "    col_name = list(set(new_col))\n",
    "    col_name.sort()\n",
    "    \n",
    "    # make the blocks from precincts by weight\n",
    "    vest = gpd.GeoDataFrame(vest, crs=\"EPSG:4269\")\n",
    "    election_in_block = population[[\"VAP\", 'geometry']] # population_df is in block scale\n",
    "    blocks_to_precincts_assignment = maup.assign(election_in_block.geometry, vest.geometry)\n",
    "\n",
    "    weights = election_in_block[\"VAP\"] / blocks_to_precincts_assignment.map(election_in_block[\"VAP\"].groupby(blocks_to_precincts_assignment).sum())\n",
    "    weights = weights.fillna(0)\n",
    "    prorated = maup.prorate(blocks_to_precincts_assignment, vest[col_name], weights)\n",
    "    election_in_block[col_name] = prorated\n",
    "\n",
    "    # assign blocks to precincts\n",
    "    election_in_block = gpd.GeoDataFrame(election_in_block, crs=\"EPSG:4269\")\n",
    "    df = gpd.GeoDataFrame(df, crs=\"EPSG:4269\")\n",
    "    block_to_pricinct_assginment = maup.assign(election_in_block.geometry, df.geometry)\n",
    "    df[col_name] = election_in_block[col_name].groupby(block_to_pricinct_assginment).sum()\n",
    "    df = df.groupby(level=0, axis=1).sum()\n",
    "    \n",
    "    # check if population agrees\n",
    "    check_population(population, df)\n",
    "        \n",
    "    return df"
   ]
  },
  {
   "cell_type": "markdown",
   "metadata": {},
   "source": [
    "### Read the census data"
   ]
  },
  {
   "cell_type": "code",
   "execution_count": 11,
   "metadata": {},
   "outputs": [],
   "source": [
    "population1_df = gpd.read_file(population1_data)\n",
    "population2_df = gpd.read_file(population2_data)\n",
    "vap_df = gpd.read_file(vap_data)"
   ]
  },
  {
   "cell_type": "code",
   "execution_count": 12,
   "metadata": {},
   "outputs": [],
   "source": [
    "population2_df = population2_df.drop(columns=['SUMLEV', 'LOGRECNO', 'GEOID', 'COUNTY', 'geometry'])\n",
    "vap_df = vap_df.drop(columns=['SUMLEV', 'LOGRECNO', 'GEOID', 'COUNTY', 'geometry'])"
   ]
  },
  {
   "cell_type": "code",
   "execution_count": 13,
   "metadata": {},
   "outputs": [],
   "source": [
    "population_df = pd.merge(population1_df, population2_df, on='GEOID20')\n",
    "population_df = pd.merge(population_df, vap_df, on='GEOID20')"
   ]
  },
  {
   "cell_type": "code",
   "execution_count": 14,
   "metadata": {},
   "outputs": [
    {
     "name": "stderr",
     "output_type": "stream",
     "text": [
      "100%|██████████| 71207/71207 [01:38<00:00, 724.42it/s] \n"
     ]
    },
    {
     "data": {
      "text/plain": [
       "True"
      ]
     },
     "execution_count": 14,
     "metadata": {},
     "output_type": "execute_result"
    }
   ],
   "source": [
    "maup.doctor(population_df)"
   ]
  },
  {
   "cell_type": "code",
   "execution_count": 15,
   "metadata": {},
   "outputs": [],
   "source": [
    "population_df['H_WHITE'] = population_df.apply(lambda t: t['P0010003'] - t['P0020005'], 1)\n",
    "population_df['H_BLACK'] = population_df.apply(lambda t: t['P0010004'] - t['P0020006'], 1)\n",
    "population_df['H_AMIN'] = population_df.apply(lambda t: t['P0010005'] - t['P0020007'], 1)\n",
    "population_df['H_ASIAN'] = population_df.apply(lambda t: t['P0010006'] - t['P0020008'], 1)\n",
    "population_df['H_NHPI'] = population_df.apply(lambda t: t['P0010007'] - t['P0020009'], 1)\n",
    "population_df['H_OTHER'] = population_df.apply(lambda t: t['P0010008'] - t['P0020010'], 1)\n",
    "population_df['H_2MORE'] = population_df.apply(lambda t: t['P0010009'] - t['P0020011'], 1)"
   ]
  },
  {
   "cell_type": "code",
   "execution_count": 16,
   "metadata": {},
   "outputs": [],
   "source": [
    "rename_dict = {'P0020001': 'TOTPOP', 'P0020002': 'HISP', 'P0020005': 'NH_WHITE', 'P0020006': 'NH_BLACK', 'P0020007': 'NH_AMIN',\n",
    "                    'P0020008': 'NH_ASIAN', 'P0020009': 'NH_NHPI', 'P0020010': 'NH_OTHER', 'P0020011': 'NH_2MORE',\n",
    "                    'P0040001': 'VAP', 'P0040002': 'HVAP', 'P0040005': 'WVAP', 'P0040006': 'BVAP', 'P0040007': 'AMINVAP',\n",
    "                                        'P0040008': 'ASIANVAP', 'P0040009': 'NHPIVAP', 'P0040010': 'OTHERVAP', 'P0040011': '2MOREVAP'}"
   ]
  },
  {
   "cell_type": "code",
   "execution_count": 17,
   "metadata": {},
   "outputs": [],
   "source": [
    "population_df.rename(columns=rename_dict, inplace = True)"
   ]
  },
  {
   "cell_type": "code",
   "execution_count": 18,
   "metadata": {},
   "outputs": [
    {
     "name": "stderr",
     "output_type": "stream",
     "text": [
      "100%|██████████| 4/4 [00:00<00:00, 25.71it/s]\n"
     ]
    }
   ],
   "source": [
    "cong_df = gpd.read_file(cd_data)\n",
    "if maup.doctor(cong_df) != True:\n",
    "    cong_df = do_smart_repair(cong_df)"
   ]
  },
  {
   "cell_type": "markdown",
   "metadata": {},
   "source": [
    "## Read the vest 20 data\n",
    "\n",
    "Now using it as a \"base pricinct\""
   ]
  },
  {
   "cell_type": "code",
   "execution_count": 19,
   "metadata": {},
   "outputs": [],
   "source": [
    "def add_vest_base(vest, start_col, year):\n",
    "    original_col = vest.columns[start_col:-1]\n",
    "    new_col = [rename(i, year) for i in original_col]\n",
    "    rename_dict = dict(zip(original_col, new_col))\n",
    "    vest = vest.rename(columns=rename_dict)\n",
    "    vest = vest.groupby(level=0, axis=1).sum()\n",
    "    vest = gpd.GeoDataFrame(vest, crs=\"EPSG:4269\")\n",
    "    \n",
    "    return vest"
   ]
  },
  {
   "cell_type": "markdown",
   "metadata": {},
   "source": [
    "## Check if vest20 can be used as base"
   ]
  },
  {
   "cell_type": "code",
   "execution_count": 20,
   "metadata": {},
   "outputs": [
    {
     "name": "stderr",
     "output_type": "stream",
     "text": [
      "100%|██████████| 2424/2424 [00:05<00:00, 437.06it/s]\n"
     ]
    },
    {
     "name": "stdout",
     "output_type": "stream",
     "text": [
      "There are 1880 overlaps.\n",
      "There are 9442 holes.\n",
      "There are some invalid geometries.\n",
      "Snapping all geometries to a grid with precision 10^( -5 ) to avoid GEOS errors.\n",
      "Identifying overlaps...\n"
     ]
    },
    {
     "name": "stderr",
     "output_type": "stream",
     "text": [
      "100%|██████████| 21637/21637 [00:29<00:00, 730.75it/s] \n"
     ]
    },
    {
     "name": "stdout",
     "output_type": "stream",
     "text": [
      "Resolving overlaps...\n",
      "Assigning order 2 pieces...\n",
      "Assigning order 3 pieces...\n",
      "Filling gaps...\n"
     ]
    },
    {
     "name": "stderr",
     "output_type": "stream",
     "text": [
      "Gaps to simplify: 9450it [1:08:19,  2.31it/s]                          \n",
      "Gaps to fill: 100%|██████████| 311/311 [03:50<00:00,  1.35it/s]\n",
      "100%|██████████| 2424/2424 [00:05<00:00, 483.91it/s]\n"
     ]
    },
    {
     "name": "stdout",
     "output_type": "stream",
     "text": [
      "smart_repair successful\n"
     ]
    }
   ],
   "source": [
    "vest20 = gpd.read_file(vest20_data)\n",
    "if maup.doctor(vest20) != True:\n",
    "    vest20 = do_smart_repair(vest20)"
   ]
  },
  {
   "cell_type": "code",
   "execution_count": 21,
   "metadata": {},
   "outputs": [
    {
     "data": {
      "text/plain": [
       "Index(['CountyID', 'vistapre', 'resultspre', 'G20PRERTRU', 'G20PREDBID',\n",
       "       'G20PRELJOR', 'G20PREGHAW', 'G20PRECBLA', 'G20PREIPIE', 'G20PREIWES',\n",
       "       'G20PREIMCH', 'G20PREILAR', 'G20PREOWRI', 'G20GOVRCOX', 'G20GOVDPET',\n",
       "       'G20GOVLCOT', 'G20GOVADUE', 'G20GOVOWRI', 'G20ATGRREY', 'G20ATGDSKO',\n",
       "       'G20ATGLBAU', 'G20AUDRDOU', 'G20AUDCOST', 'G20AUDUFAB', 'G20TRERDAM',\n",
       "       'G20TRELSPE', 'G20TRECPRO', 'geometry'],\n",
       "      dtype='object')"
      ]
     },
     "execution_count": 21,
     "metadata": {},
     "output_type": "execute_result"
    }
   ],
   "source": [
    "vest20.columns"
   ]
  },
  {
   "cell_type": "code",
   "execution_count": 22,
   "metadata": {},
   "outputs": [],
   "source": [
    "start_col = 3\n",
    "vest_base_data = vest20\n",
    "year = '20'"
   ]
  },
  {
   "cell_type": "code",
   "execution_count": 23,
   "metadata": {},
   "outputs": [],
   "source": [
    "vest_base = add_vest_base(vest_base_data, start_col, year)"
   ]
  },
  {
   "cell_type": "code",
   "execution_count": 24,
   "metadata": {},
   "outputs": [
    {
     "name": "stderr",
     "output_type": "stream",
     "text": [
      "100%|██████████| 2424/2424 [00:04<00:00, 596.10it/s]\n",
      "100%|██████████| 2424/2424 [00:20<00:00, 118.37it/s]\n"
     ]
    }
   ],
   "source": [
    "# vap and population have the same GEOID20\n",
    "blocks_to_precincts_assignment = maup.assign(population_df.geometry, vest_base.geometry)"
   ]
  },
  {
   "cell_type": "code",
   "execution_count": 25,
   "metadata": {},
   "outputs": [],
   "source": [
    "vest_base[pop_col] = population_df[pop_col].groupby(blocks_to_precincts_assignment).sum()"
   ]
  },
  {
   "cell_type": "code",
   "execution_count": 26,
   "metadata": {},
   "outputs": [],
   "source": [
    "election_df = gpd.GeoDataFrame(vest_base, crs=\"EPSG:4269\")"
   ]
  },
  {
   "cell_type": "code",
   "execution_count": 27,
   "metadata": {},
   "outputs": [
    {
     "data": {
      "text/plain": [
       "Index(['ATG20D', 'ATG20O', 'ATG20R', 'AUD20O', 'AUD20R', 'CountyID', 'GOV20D',\n",
       "       'GOV20O', 'GOV20R', 'PRE20D', 'PRE20O', 'PRE20R', 'TRE20O', 'TRE20R',\n",
       "       'geometry', 'resultspre', 'vistapre', 'TOTPOP', 'HISP', 'NH_WHITE',\n",
       "       'NH_BLACK', 'NH_AMIN', 'NH_ASIAN', 'NH_NHPI', 'NH_OTHER', 'NH_2MORE',\n",
       "       'H_WHITE', 'H_BLACK', 'H_AMIN', 'H_ASIAN', 'H_NHPI', 'H_OTHER',\n",
       "       'H_2MORE', 'VAP', 'HVAP', 'WVAP', 'BVAP', 'AMINVAP', 'ASIANVAP',\n",
       "       'NHPIVAP', 'OTHERVAP', '2MOREVAP'],\n",
       "      dtype='object')"
      ]
     },
     "execution_count": 27,
     "metadata": {},
     "output_type": "execute_result"
    }
   ],
   "source": [
    "election_df.columns"
   ]
  },
  {
   "cell_type": "markdown",
   "metadata": {},
   "source": [
    "## Check if population agrees"
   ]
  },
  {
   "cell_type": "code",
   "execution_count": 28,
   "metadata": {},
   "outputs": [
    {
     "data": {
      "text/html": [
       "<div>\n",
       "<style scoped>\n",
       "    .dataframe tbody tr th:only-of-type {\n",
       "        vertical-align: middle;\n",
       "    }\n",
       "\n",
       "    .dataframe tbody tr th {\n",
       "        vertical-align: top;\n",
       "    }\n",
       "\n",
       "    .dataframe thead th {\n",
       "        text-align: right;\n",
       "    }\n",
       "</style>\n",
       "<table border=\"1\" class=\"dataframe\">\n",
       "  <thead>\n",
       "    <tr style=\"text-align: right;\">\n",
       "      <th></th>\n",
       "      <th>pop_col</th>\n",
       "      <th>population_df</th>\n",
       "      <th>vest_base</th>\n",
       "      <th>equal</th>\n",
       "    </tr>\n",
       "  </thead>\n",
       "  <tbody>\n",
       "    <tr>\n",
       "      <th>TOTPOP</th>\n",
       "      <td>TOTPOP</td>\n",
       "      <td>3271616</td>\n",
       "      <td>3271616.0</td>\n",
       "      <td>True</td>\n",
       "    </tr>\n",
       "    <tr>\n",
       "      <th>HISP</th>\n",
       "      <td>HISP</td>\n",
       "      <td>492912</td>\n",
       "      <td>492912.0</td>\n",
       "      <td>True</td>\n",
       "    </tr>\n",
       "    <tr>\n",
       "      <th>NH_WHITE</th>\n",
       "      <td>NH_WHITE</td>\n",
       "      <td>2465355</td>\n",
       "      <td>2465355.0</td>\n",
       "      <td>True</td>\n",
       "    </tr>\n",
       "    <tr>\n",
       "      <th>NH_BLACK</th>\n",
       "      <td>NH_BLACK</td>\n",
       "      <td>37192</td>\n",
       "      <td>37192.0</td>\n",
       "      <td>True</td>\n",
       "    </tr>\n",
       "    <tr>\n",
       "      <th>NH_AMIN</th>\n",
       "      <td>NH_AMIN</td>\n",
       "      <td>28690</td>\n",
       "      <td>28690.0</td>\n",
       "      <td>True</td>\n",
       "    </tr>\n",
       "    <tr>\n",
       "      <th>NH_ASIAN</th>\n",
       "      <td>NH_ASIAN</td>\n",
       "      <td>78618</td>\n",
       "      <td>78618.0</td>\n",
       "      <td>True</td>\n",
       "    </tr>\n",
       "    <tr>\n",
       "      <th>NH_NHPI</th>\n",
       "      <td>NH_NHPI</td>\n",
       "      <td>35831</td>\n",
       "      <td>35831.0</td>\n",
       "      <td>True</td>\n",
       "    </tr>\n",
       "    <tr>\n",
       "      <th>NH_OTHER</th>\n",
       "      <td>NH_OTHER</td>\n",
       "      <td>12566</td>\n",
       "      <td>12566.0</td>\n",
       "      <td>True</td>\n",
       "    </tr>\n",
       "    <tr>\n",
       "      <th>NH_2MORE</th>\n",
       "      <td>NH_2MORE</td>\n",
       "      <td>120452</td>\n",
       "      <td>120452.0</td>\n",
       "      <td>True</td>\n",
       "    </tr>\n",
       "    <tr>\n",
       "      <th>H_WHITE</th>\n",
       "      <td>H_WHITE</td>\n",
       "      <td>108058</td>\n",
       "      <td>108058.0</td>\n",
       "      <td>True</td>\n",
       "    </tr>\n",
       "    <tr>\n",
       "      <th>H_BLACK</th>\n",
       "      <td>H_BLACK</td>\n",
       "      <td>2866</td>\n",
       "      <td>2866.0</td>\n",
       "      <td>True</td>\n",
       "    </tr>\n",
       "    <tr>\n",
       "      <th>H_AMIN</th>\n",
       "      <td>H_AMIN</td>\n",
       "      <td>12954</td>\n",
       "      <td>12954.0</td>\n",
       "      <td>True</td>\n",
       "    </tr>\n",
       "    <tr>\n",
       "      <th>H_ASIAN</th>\n",
       "      <td>H_ASIAN</td>\n",
       "      <td>1820</td>\n",
       "      <td>1820.0</td>\n",
       "      <td>True</td>\n",
       "    </tr>\n",
       "    <tr>\n",
       "      <th>H_NHPI</th>\n",
       "      <td>H_NHPI</td>\n",
       "      <td>1099</td>\n",
       "      <td>1099.0</td>\n",
       "      <td>True</td>\n",
       "    </tr>\n",
       "    <tr>\n",
       "      <th>H_OTHER</th>\n",
       "      <td>H_OTHER</td>\n",
       "      <td>207554</td>\n",
       "      <td>207554.0</td>\n",
       "      <td>True</td>\n",
       "    </tr>\n",
       "    <tr>\n",
       "      <th>H_2MORE</th>\n",
       "      <td>H_2MORE</td>\n",
       "      <td>158561</td>\n",
       "      <td>158561.0</td>\n",
       "      <td>True</td>\n",
       "    </tr>\n",
       "    <tr>\n",
       "      <th>VAP</th>\n",
       "      <td>VAP</td>\n",
       "      <td>2324051</td>\n",
       "      <td>2324051.0</td>\n",
       "      <td>True</td>\n",
       "    </tr>\n",
       "    <tr>\n",
       "      <th>HVAP</th>\n",
       "      <td>HVAP</td>\n",
       "      <td>316610</td>\n",
       "      <td>316610.0</td>\n",
       "      <td>True</td>\n",
       "    </tr>\n",
       "    <tr>\n",
       "      <th>WVAP</th>\n",
       "      <td>WVAP</td>\n",
       "      <td>1798000</td>\n",
       "      <td>1798000.0</td>\n",
       "      <td>True</td>\n",
       "    </tr>\n",
       "    <tr>\n",
       "      <th>BVAP</th>\n",
       "      <td>BVAP</td>\n",
       "      <td>25370</td>\n",
       "      <td>25370.0</td>\n",
       "      <td>True</td>\n",
       "    </tr>\n",
       "    <tr>\n",
       "      <th>AMINVAP</th>\n",
       "      <td>AMINVAP</td>\n",
       "      <td>20985</td>\n",
       "      <td>20985.0</td>\n",
       "      <td>True</td>\n",
       "    </tr>\n",
       "    <tr>\n",
       "      <th>ASIANVAP</th>\n",
       "      <td>ASIANVAP</td>\n",
       "      <td>62825</td>\n",
       "      <td>62825.0</td>\n",
       "      <td>True</td>\n",
       "    </tr>\n",
       "    <tr>\n",
       "      <th>NHPIVAP</th>\n",
       "      <td>NHPIVAP</td>\n",
       "      <td>23424</td>\n",
       "      <td>23424.0</td>\n",
       "      <td>True</td>\n",
       "    </tr>\n",
       "    <tr>\n",
       "      <th>OTHERVAP</th>\n",
       "      <td>OTHERVAP</td>\n",
       "      <td>8588</td>\n",
       "      <td>8588.0</td>\n",
       "      <td>True</td>\n",
       "    </tr>\n",
       "    <tr>\n",
       "      <th>2MOREVAP</th>\n",
       "      <td>2MOREVAP</td>\n",
       "      <td>68249</td>\n",
       "      <td>68249.0</td>\n",
       "      <td>True</td>\n",
       "    </tr>\n",
       "  </tbody>\n",
       "</table>\n",
       "</div>"
      ],
      "text/plain": [
       "           pop_col  population_df  vest_base  equal\n",
       "TOTPOP      TOTPOP        3271616  3271616.0   True\n",
       "HISP          HISP         492912   492912.0   True\n",
       "NH_WHITE  NH_WHITE        2465355  2465355.0   True\n",
       "NH_BLACK  NH_BLACK          37192    37192.0   True\n",
       "NH_AMIN    NH_AMIN          28690    28690.0   True\n",
       "NH_ASIAN  NH_ASIAN          78618    78618.0   True\n",
       "NH_NHPI    NH_NHPI          35831    35831.0   True\n",
       "NH_OTHER  NH_OTHER          12566    12566.0   True\n",
       "NH_2MORE  NH_2MORE         120452   120452.0   True\n",
       "H_WHITE    H_WHITE         108058   108058.0   True\n",
       "H_BLACK    H_BLACK           2866     2866.0   True\n",
       "H_AMIN      H_AMIN          12954    12954.0   True\n",
       "H_ASIAN    H_ASIAN           1820     1820.0   True\n",
       "H_NHPI      H_NHPI           1099     1099.0   True\n",
       "H_OTHER    H_OTHER         207554   207554.0   True\n",
       "H_2MORE    H_2MORE         158561   158561.0   True\n",
       "VAP            VAP        2324051  2324051.0   True\n",
       "HVAP          HVAP         316610   316610.0   True\n",
       "WVAP          WVAP        1798000  1798000.0   True\n",
       "BVAP          BVAP          25370    25370.0   True\n",
       "AMINVAP    AMINVAP          20985    20985.0   True\n",
       "ASIANVAP  ASIANVAP          62825    62825.0   True\n",
       "NHPIVAP    NHPIVAP          23424    23424.0   True\n",
       "OTHERVAP  OTHERVAP           8588     8588.0   True\n",
       "2MOREVAP  2MOREVAP          68249    68249.0   True"
      ]
     },
     "execution_count": 28,
     "metadata": {},
     "output_type": "execute_result"
    }
   ],
   "source": [
    "pd.DataFrame({\n",
    "    'pop_col': pop_col,\n",
    "    'population_df': population_df[pop_col].sum(), \n",
    "    'vest_base': vest_base[pop_col].sum(),\n",
    "    'equal': [x == y for x, y in zip(population_df[pop_col].sum(), vest_base[pop_col].sum())]\n",
    "})"
   ]
  },
  {
   "cell_type": "markdown",
   "metadata": {},
   "source": [
    "## Add more vest data"
   ]
  },
  {
   "cell_type": "code",
   "execution_count": 29,
   "metadata": {},
   "outputs": [],
   "source": [
    "vest18 = gpd.read_file(vest18_data)\n",
    "vest16 = gpd.read_file(vest16_data)"
   ]
  },
  {
   "cell_type": "code",
   "execution_count": 30,
   "metadata": {},
   "outputs": [
    {
     "data": {
      "text/plain": [
       "Index(['CountyID', 'mergeid', 'uniqueid', 'G18USSRROM', 'G18USSDWIL',\n",
       "       'G18USSIMCC', 'G18USSLBOW', 'G18USSCAAL', 'G18USSOWRI', 'geometry'],\n",
       "      dtype='object')"
      ]
     },
     "execution_count": 30,
     "metadata": {},
     "output_type": "execute_result"
    }
   ],
   "source": [
    "vest18.columns"
   ]
  },
  {
   "cell_type": "code",
   "execution_count": 31,
   "metadata": {},
   "outputs": [
    {
     "data": {
      "text/plain": [
       "Index(['CountyID', 'PrecinctID', 'county', 'precinct', 'G16PRERTRU',\n",
       "       'G16PREDCLI', 'G16PRELJOH', 'G16PREISTE', 'G16PREIMCM', 'G16PREOOTH',\n",
       "       'G16USSRLEE', 'G16USSDSNO', 'G16USSAFON', 'G16USSIBAR', 'G16GOVRHER',\n",
       "       'G16GOVDWEI', 'G16GOVLKAM', 'G16GOVASCH', 'G16ATGRREY', 'G16ATGDHAR',\n",
       "       'G16ATGLMCC', 'G16ATGAISB', 'G16AUDRDOU', 'G16AUDDMIT', 'G16AUDAGRE',\n",
       "       'G16TRERDAM', 'G16TREDHAN', 'G16TRECPRO', 'geometry'],\n",
       "      dtype='object')"
      ]
     },
     "execution_count": 31,
     "metadata": {},
     "output_type": "execute_result"
    }
   ],
   "source": [
    "vest16.columns"
   ]
  },
  {
   "cell_type": "code",
   "execution_count": 32,
   "metadata": {},
   "outputs": [
    {
     "name": "stderr",
     "output_type": "stream",
     "text": [
      "100%|██████████| 2337/2337 [00:06<00:00, 365.84it/s]\n"
     ]
    },
    {
     "name": "stdout",
     "output_type": "stream",
     "text": [
      "There are 1778 overlaps.\n",
      "There are 10128 holes.\n",
      "There are some invalid geometries.\n",
      "Snapping all geometries to a grid with precision 10^( -5 ) to avoid GEOS errors.\n",
      "Identifying overlaps...\n"
     ]
    },
    {
     "name": "stderr",
     "output_type": "stream",
     "text": [
      "100%|██████████| 22762/22762 [00:29<00:00, 779.55it/s] \n"
     ]
    },
    {
     "name": "stdout",
     "output_type": "stream",
     "text": [
      "Resolving overlaps...\n",
      "Assigning order 2 pieces...\n",
      "Assigning order 3 pieces...\n",
      "Filling gaps...\n"
     ]
    },
    {
     "name": "stderr",
     "output_type": "stream",
     "text": [
      "Gaps to simplify:  98%|█████████▊| 9907/10136 [1:17:49<01:17,  2.96it/s]  "
     ]
    },
    {
     "ename": "GEOSException",
     "evalue": "TopologyException: side location conflict at 458030.48999999999 4467307.64011. This can occur if the input geometry is invalid.",
     "output_type": "error",
     "traceback": [
      "\u001b[0;31m---------------------------------------------------------------------------\u001b[0m",
      "\u001b[0;31mGEOSException\u001b[0m                             Traceback (most recent call last)",
      "\u001b[1;32m/Users/aagarwal/Desktop/Redestring AI/Utah/ut.ipynb Cell 38\u001b[0m line \u001b[0;36m2\n\u001b[1;32m      <a href='vscode-notebook-cell:/Users/aagarwal/Desktop/Redestring%20AI/Utah/ut.ipynb#X53sZmlsZQ%3D%3D?line=0'>1</a>\u001b[0m \u001b[39m# check the result here\u001b[39;00m\n\u001b[0;32m----> <a href='vscode-notebook-cell:/Users/aagarwal/Desktop/Redestring%20AI/Utah/ut.ipynb#X53sZmlsZQ%3D%3D?line=1'>2</a>\u001b[0m election_df \u001b[39m=\u001b[39m add_vest(vest18, election_df, \u001b[39m'\u001b[39m\u001b[39m18\u001b[39m\u001b[39m'\u001b[39m, population_df, start_col)\n",
      "\u001b[1;32m/Users/aagarwal/Desktop/Redestring AI/Utah/ut.ipynb Cell 38\u001b[0m line \u001b[0;36m4\n\u001b[1;32m      <a href='vscode-notebook-cell:/Users/aagarwal/Desktop/Redestring%20AI/Utah/ut.ipynb#X53sZmlsZQ%3D%3D?line=0'>1</a>\u001b[0m \u001b[39mdef\u001b[39;00m \u001b[39madd_vest\u001b[39m(vest, df, year, population, start_col):    \n\u001b[1;32m      <a href='vscode-notebook-cell:/Users/aagarwal/Desktop/Redestring%20AI/Utah/ut.ipynb#X53sZmlsZQ%3D%3D?line=1'>2</a>\u001b[0m      \u001b[39m# check if it needs to be smart_repair\u001b[39;00m\n\u001b[1;32m      <a href='vscode-notebook-cell:/Users/aagarwal/Desktop/Redestring%20AI/Utah/ut.ipynb#X53sZmlsZQ%3D%3D?line=2'>3</a>\u001b[0m     \u001b[39mif\u001b[39;00m maup\u001b[39m.\u001b[39mdoctor(vest) \u001b[39m!=\u001b[39m \u001b[39mTrue\u001b[39;00m:\n\u001b[0;32m----> <a href='vscode-notebook-cell:/Users/aagarwal/Desktop/Redestring%20AI/Utah/ut.ipynb#X53sZmlsZQ%3D%3D?line=3'>4</a>\u001b[0m         vest \u001b[39m=\u001b[39m do_smart_repair(vest)\n\u001b[1;32m      <a href='vscode-notebook-cell:/Users/aagarwal/Desktop/Redestring%20AI/Utah/ut.ipynb#X53sZmlsZQ%3D%3D?line=5'>6</a>\u001b[0m     \u001b[39m# rename the columns\u001b[39;00m\n\u001b[1;32m      <a href='vscode-notebook-cell:/Users/aagarwal/Desktop/Redestring%20AI/Utah/ut.ipynb#X53sZmlsZQ%3D%3D?line=6'>7</a>\u001b[0m     original_col \u001b[39m=\u001b[39m vest\u001b[39m.\u001b[39mcolumns[start_col:\u001b[39m-\u001b[39m\u001b[39m1\u001b[39m]\n",
      "\u001b[1;32m/Users/aagarwal/Desktop/Redestring AI/Utah/ut.ipynb Cell 38\u001b[0m line \u001b[0;36m4\n\u001b[1;32m      <a href='vscode-notebook-cell:/Users/aagarwal/Desktop/Redestring%20AI/Utah/ut.ipynb#X53sZmlsZQ%3D%3D?line=0'>1</a>\u001b[0m \u001b[39mdef\u001b[39;00m \u001b[39mdo_smart_repair\u001b[39m(df):\n\u001b[1;32m      <a href='vscode-notebook-cell:/Users/aagarwal/Desktop/Redestring%20AI/Utah/ut.ipynb#X53sZmlsZQ%3D%3D?line=1'>2</a>\u001b[0m     \u001b[39m# change it to the UTM it needs for smart_repair\u001b[39;00m\n\u001b[1;32m      <a href='vscode-notebook-cell:/Users/aagarwal/Desktop/Redestring%20AI/Utah/ut.ipynb#X53sZmlsZQ%3D%3D?line=2'>3</a>\u001b[0m     df \u001b[39m=\u001b[39m df\u001b[39m.\u001b[39mto_crs(df\u001b[39m.\u001b[39mestimate_utm_crs())\n\u001b[0;32m----> <a href='vscode-notebook-cell:/Users/aagarwal/Desktop/Redestring%20AI/Utah/ut.ipynb#X53sZmlsZQ%3D%3D?line=3'>4</a>\u001b[0m     df \u001b[39m=\u001b[39m smart_repair(df)\n\u001b[1;32m      <a href='vscode-notebook-cell:/Users/aagarwal/Desktop/Redestring%20AI/Utah/ut.ipynb#X53sZmlsZQ%3D%3D?line=4'>5</a>\u001b[0m     \u001b[39mif\u001b[39;00m maup\u001b[39m.\u001b[39mdoctor(df):\n\u001b[1;32m      <a href='vscode-notebook-cell:/Users/aagarwal/Desktop/Redestring%20AI/Utah/ut.ipynb#X53sZmlsZQ%3D%3D?line=5'>6</a>\u001b[0m         \u001b[39mprint\u001b[39m(\u001b[39m'\u001b[39m\u001b[39msmart_repair successful\u001b[39m\u001b[39m'\u001b[39m)\n",
      "File \u001b[0;32m~/anaconda3/envs/gerry/lib/python3.11/site-packages/maup/smart_repair.py:181\u001b[0m, in \u001b[0;36msmart_repair\u001b[0;34m(geometries_df, snapped, snap_precision, fill_gaps, fill_gaps_threshold, disconnection_threshold, nest_within_regions, min_rook_length)\u001b[0m\n\u001b[1;32m    178\u001b[0m             \u001b[39mprint\u001b[39m(num_holes_dropped, \u001b[39m\"\u001b[39m\u001b[39mgaps will remain unfilled, because they either are not simply connected or exceed the area threshold.\u001b[39m\u001b[39m\"\u001b[39m)\n\u001b[1;32m    180\u001b[0m         \u001b[39mprint\u001b[39m(\u001b[39m\"\u001b[39m\u001b[39mFilling gaps...\u001b[39m\u001b[39m\"\u001b[39m)\n\u001b[0;32m--> 181\u001b[0m         reconstructed_df \u001b[39m=\u001b[39m smart_close_gaps(reconstructed_df, holes_df)\n\u001b[1;32m    183\u001b[0m \u001b[39melse\u001b[39;00m:\n\u001b[1;32m    184\u001b[0m     \u001b[39mif\u001b[39;00m fill_gaps:\n",
      "File \u001b[0;32m~/anaconda3/envs/gerry/lib/python3.11/site-packages/maup/smart_repair.py:636\u001b[0m, in \u001b[0;36msmart_close_gaps\u001b[0;34m(geometries_df, holes_df)\u001b[0m\n\u001b[1;32m    633\u001b[0m holes_df \u001b[39m=\u001b[39m holes_df\u001b[39m.\u001b[39mcopy()\n\u001b[1;32m    635\u001b[0m \u001b[39m# First step is to simplify gaps by convexifying the geometry boundaries:\u001b[39;00m\n\u001b[0;32m--> 636\u001b[0m geometries_df, holes_df \u001b[39m=\u001b[39m convexify_hole_boundaries(geometries_df, holes_df)\n\u001b[1;32m    638\u001b[0m \u001b[39m# Now proceed with filling simplified gaps.\u001b[39;00m\n\u001b[1;32m    639\u001b[0m \u001b[39mif\u001b[39;00m \u001b[39mlen\u001b[39m(holes_df) \u001b[39m>\u001b[39m \u001b[39m0\u001b[39m:\n",
      "File \u001b[0;32m~/anaconda3/envs/gerry/lib/python3.11/site-packages/maup/smart_repair.py:1587\u001b[0m, in \u001b[0;36mconvexify_hole_boundaries\u001b[0;34m(geometries_df, holes_df)\u001b[0m\n\u001b[1;32m   1584\u001b[0m start \u001b[39m=\u001b[39m \u001b[39mlist\u001b[39m(extract_unique_points(thb)\u001b[39m.\u001b[39mgeoms)[\u001b[39m0\u001b[39m]\n\u001b[1;32m   1585\u001b[0m end \u001b[39m=\u001b[39m \u001b[39mlist\u001b[39m(extract_unique_points(thb)\u001b[39m.\u001b[39mgeoms)[\u001b[39m-\u001b[39m\u001b[39m1\u001b[39m]\n\u001b[0;32m-> 1587\u001b[0m sp \u001b[39m=\u001b[39m LineString(shortest_path_in_polygon(this_hole, start, end, full_triangulation\u001b[39m=\u001b[39mthis_hole_triangulation))\n\u001b[1;32m   1589\u001b[0m piece_to_add_boundary \u001b[39m=\u001b[39m unary_union([thb, sp])\n\u001b[1;32m   1590\u001b[0m \u001b[39mif\u001b[39;00m piece_to_add_boundary\u001b[39m.\u001b[39mgeom_type \u001b[39m==\u001b[39m \u001b[39m\"\u001b[39m\u001b[39mMultiLineString\u001b[39m\u001b[39m\"\u001b[39m:\n",
      "File \u001b[0;32m~/anaconda3/envs/gerry/lib/python3.11/site-packages/maup/smart_repair.py:1470\u001b[0m, in \u001b[0;36mshortest_path_in_polygon\u001b[0;34m(polygon, start, end, full_triangulation)\u001b[0m\n\u001b[1;32m   1468\u001b[0m \u001b[39melse\u001b[39;00m:\n\u001b[1;32m   1469\u001b[0m     \u001b[39mfor\u001b[39;00m i \u001b[39min\u001b[39;00m \u001b[39mrange\u001b[39m(\u001b[39m1\u001b[39m, \u001b[39mlen\u001b[39m(this_funnel)):\n\u001b[0;32m-> 1470\u001b[0m         \u001b[39mif\u001b[39;00m polygon_simplified\u001b[39m.\u001b[39mcontains(LineString([this_funnel[i], point])) \u001b[39mor\u001b[39;00m polygon_simplified\u001b[39m.\u001b[39mboundary\u001b[39m.\u001b[39mcontains(LineString([this_funnel[i], point])):\n\u001b[1;32m   1471\u001b[0m             first_seen \u001b[39m=\u001b[39m i\n\u001b[1;32m   1472\u001b[0m             \u001b[39mbreak\u001b[39;00m\n",
      "File \u001b[0;32m~/anaconda3/envs/gerry/lib/python3.11/site-packages/shapely/geometry/base.py:675\u001b[0m, in \u001b[0;36mBaseGeometry.contains\u001b[0;34m(self, other)\u001b[0m\n\u001b[1;32m    673\u001b[0m \u001b[39mdef\u001b[39;00m \u001b[39mcontains\u001b[39m(\u001b[39mself\u001b[39m, other):\n\u001b[1;32m    674\u001b[0m \u001b[39m    \u001b[39m\u001b[39m\"\"\"Returns True if the geometry contains the other, else False\"\"\"\u001b[39;00m\n\u001b[0;32m--> 675\u001b[0m     \u001b[39mreturn\u001b[39;00m _maybe_unpack(shapely\u001b[39m.\u001b[39mcontains(\u001b[39mself\u001b[39m, other))\n",
      "File \u001b[0;32m~/anaconda3/envs/gerry/lib/python3.11/site-packages/shapely/decorators.py:77\u001b[0m, in \u001b[0;36mmultithreading_enabled.<locals>.wrapped\u001b[0;34m(*args, **kwargs)\u001b[0m\n\u001b[1;32m     75\u001b[0m     \u001b[39mfor\u001b[39;00m arr \u001b[39min\u001b[39;00m array_args:\n\u001b[1;32m     76\u001b[0m         arr\u001b[39m.\u001b[39mflags\u001b[39m.\u001b[39mwriteable \u001b[39m=\u001b[39m \u001b[39mFalse\u001b[39;00m\n\u001b[0;32m---> 77\u001b[0m     \u001b[39mreturn\u001b[39;00m func(\u001b[39m*\u001b[39margs, \u001b[39m*\u001b[39m\u001b[39m*\u001b[39mkwargs)\n\u001b[1;32m     78\u001b[0m \u001b[39mfinally\u001b[39;00m:\n\u001b[1;32m     79\u001b[0m     \u001b[39mfor\u001b[39;00m arr, old_flag \u001b[39min\u001b[39;00m \u001b[39mzip\u001b[39m(array_args, old_flags):\n",
      "File \u001b[0;32m~/anaconda3/envs/gerry/lib/python3.11/site-packages/shapely/predicates.py:526\u001b[0m, in \u001b[0;36mcontains\u001b[0;34m(a, b, **kwargs)\u001b[0m\n\u001b[1;32m    472\u001b[0m \u001b[39m@multithreading_enabled\u001b[39m\n\u001b[1;32m    473\u001b[0m \u001b[39mdef\u001b[39;00m \u001b[39mcontains\u001b[39m(a, b, \u001b[39m*\u001b[39m\u001b[39m*\u001b[39mkwargs):\n\u001b[1;32m    474\u001b[0m \u001b[39m    \u001b[39m\u001b[39m\"\"\"Returns True if geometry B is completely inside geometry A.\u001b[39;00m\n\u001b[1;32m    475\u001b[0m \n\u001b[1;32m    476\u001b[0m \u001b[39m    A contains B if no points of B lie in the exterior of A and at least one\u001b[39;00m\n\u001b[0;32m   (...)\u001b[0m\n\u001b[1;32m    524\u001b[0m \u001b[39m    False\u001b[39;00m\n\u001b[1;32m    525\u001b[0m \u001b[39m    \"\"\"\u001b[39;00m\n\u001b[0;32m--> 526\u001b[0m     \u001b[39mreturn\u001b[39;00m lib\u001b[39m.\u001b[39mcontains(a, b, \u001b[39m*\u001b[39m\u001b[39m*\u001b[39mkwargs)\n",
      "\u001b[0;31mGEOSException\u001b[0m: TopologyException: side location conflict at 458030.48999999999 4467307.64011. This can occur if the input geometry is invalid."
     ]
    }
   ],
   "source": [
    "# check the result here\n",
    "election_df = add_vest(vest18, election_df, '18', population_df, start_col)"
   ]
  },
  {
   "cell_type": "code",
   "execution_count": 33,
   "metadata": {},
   "outputs": [
    {
     "data": {
      "text/plain": [
       "Index(['ATG20D', 'ATG20O', 'ATG20R', 'AUD20O', 'AUD20R', 'CountyID', 'GOV20D',\n",
       "       'GOV20O', 'GOV20R', 'PRE20D', 'PRE20O', 'PRE20R', 'TRE20O', 'TRE20R',\n",
       "       'geometry', 'resultspre', 'vistapre', 'TOTPOP', 'HISP', 'NH_WHITE',\n",
       "       'NH_BLACK', 'NH_AMIN', 'NH_ASIAN', 'NH_NHPI', 'NH_OTHER', 'NH_2MORE',\n",
       "       'H_WHITE', 'H_BLACK', 'H_AMIN', 'H_ASIAN', 'H_NHPI', 'H_OTHER',\n",
       "       'H_2MORE', 'VAP', 'HVAP', 'WVAP', 'BVAP', 'AMINVAP', 'ASIANVAP',\n",
       "       'NHPIVAP', 'OTHERVAP', '2MOREVAP'],\n",
       "      dtype='object')"
      ]
     },
     "execution_count": 33,
     "metadata": {},
     "output_type": "execute_result"
    }
   ],
   "source": [
    "election_df.columns"
   ]
  },
  {
   "cell_type": "code",
   "execution_count": 34,
   "metadata": {},
   "outputs": [
    {
     "name": "stderr",
     "output_type": "stream",
     "text": [
      "100%|██████████| 2296/2296 [00:04<00:00, 491.79it/s]\n"
     ]
    },
    {
     "name": "stdout",
     "output_type": "stream",
     "text": [
      "There are 1948 overlaps.\n",
      "There are 9557 holes.\n",
      "There are some invalid geometries.\n",
      "Snapping all geometries to a grid with precision 10^( -5 ) to avoid GEOS errors.\n",
      "Identifying overlaps...\n"
     ]
    },
    {
     "name": "stderr",
     "output_type": "stream",
     "text": [
      "100%|██████████| 21654/21654 [00:27<00:00, 790.18it/s]\n"
     ]
    },
    {
     "name": "stdout",
     "output_type": "stream",
     "text": [
      "Resolving overlaps...\n",
      "Assigning order 2 pieces...\n",
      "Assigning order 3 pieces...\n",
      "Filling gaps...\n"
     ]
    },
    {
     "name": "stderr",
     "output_type": "stream",
     "text": []
    },
    {
     "ename": "GEOSException",
     "evalue": "TopologyException: side location conflict at 458030.48999999999 4467307.64011. This can occur if the input geometry is invalid.",
     "output_type": "error",
     "traceback": [
      "\u001b[0;31m---------------------------------------------------------------------------\u001b[0m",
      "\u001b[0;31mGEOSException\u001b[0m                             Traceback (most recent call last)",
      "\u001b[1;32m/Users/aagarwal/Desktop/Redestring AI/Utah/ut.ipynb Cell 40\u001b[0m line \u001b[0;36m1\n\u001b[0;32m----> <a href='vscode-notebook-cell:/Users/aagarwal/Desktop/Redestring%20AI/Utah/ut.ipynb#X55sZmlsZQ%3D%3D?line=0'>1</a>\u001b[0m election_df \u001b[39m=\u001b[39m add_vest(vest16, election_df, \u001b[39m'\u001b[39m\u001b[39m16\u001b[39m\u001b[39m'\u001b[39m, population_df, \u001b[39m4\u001b[39m)\n",
      "\u001b[1;32m/Users/aagarwal/Desktop/Redestring AI/Utah/ut.ipynb Cell 40\u001b[0m line \u001b[0;36m4\n\u001b[1;32m      <a href='vscode-notebook-cell:/Users/aagarwal/Desktop/Redestring%20AI/Utah/ut.ipynb#X55sZmlsZQ%3D%3D?line=0'>1</a>\u001b[0m \u001b[39mdef\u001b[39;00m \u001b[39madd_vest\u001b[39m(vest, df, year, population, start_col):    \n\u001b[1;32m      <a href='vscode-notebook-cell:/Users/aagarwal/Desktop/Redestring%20AI/Utah/ut.ipynb#X55sZmlsZQ%3D%3D?line=1'>2</a>\u001b[0m      \u001b[39m# check if it needs to be smart_repair\u001b[39;00m\n\u001b[1;32m      <a href='vscode-notebook-cell:/Users/aagarwal/Desktop/Redestring%20AI/Utah/ut.ipynb#X55sZmlsZQ%3D%3D?line=2'>3</a>\u001b[0m     \u001b[39mif\u001b[39;00m maup\u001b[39m.\u001b[39mdoctor(vest) \u001b[39m!=\u001b[39m \u001b[39mTrue\u001b[39;00m:\n\u001b[0;32m----> <a href='vscode-notebook-cell:/Users/aagarwal/Desktop/Redestring%20AI/Utah/ut.ipynb#X55sZmlsZQ%3D%3D?line=3'>4</a>\u001b[0m         vest \u001b[39m=\u001b[39m do_smart_repair(vest)\n\u001b[1;32m      <a href='vscode-notebook-cell:/Users/aagarwal/Desktop/Redestring%20AI/Utah/ut.ipynb#X55sZmlsZQ%3D%3D?line=5'>6</a>\u001b[0m     \u001b[39m# rename the columns\u001b[39;00m\n\u001b[1;32m      <a href='vscode-notebook-cell:/Users/aagarwal/Desktop/Redestring%20AI/Utah/ut.ipynb#X55sZmlsZQ%3D%3D?line=6'>7</a>\u001b[0m     original_col \u001b[39m=\u001b[39m vest\u001b[39m.\u001b[39mcolumns[start_col:\u001b[39m-\u001b[39m\u001b[39m1\u001b[39m]\n",
      "\u001b[1;32m/Users/aagarwal/Desktop/Redestring AI/Utah/ut.ipynb Cell 40\u001b[0m line \u001b[0;36m4\n\u001b[1;32m      <a href='vscode-notebook-cell:/Users/aagarwal/Desktop/Redestring%20AI/Utah/ut.ipynb#X55sZmlsZQ%3D%3D?line=0'>1</a>\u001b[0m \u001b[39mdef\u001b[39;00m \u001b[39mdo_smart_repair\u001b[39m(df):\n\u001b[1;32m      <a href='vscode-notebook-cell:/Users/aagarwal/Desktop/Redestring%20AI/Utah/ut.ipynb#X55sZmlsZQ%3D%3D?line=1'>2</a>\u001b[0m     \u001b[39m# change it to the UTM it needs for smart_repair\u001b[39;00m\n\u001b[1;32m      <a href='vscode-notebook-cell:/Users/aagarwal/Desktop/Redestring%20AI/Utah/ut.ipynb#X55sZmlsZQ%3D%3D?line=2'>3</a>\u001b[0m     df \u001b[39m=\u001b[39m df\u001b[39m.\u001b[39mto_crs(df\u001b[39m.\u001b[39mestimate_utm_crs())\n\u001b[0;32m----> <a href='vscode-notebook-cell:/Users/aagarwal/Desktop/Redestring%20AI/Utah/ut.ipynb#X55sZmlsZQ%3D%3D?line=3'>4</a>\u001b[0m     df \u001b[39m=\u001b[39m smart_repair(df)\n\u001b[1;32m      <a href='vscode-notebook-cell:/Users/aagarwal/Desktop/Redestring%20AI/Utah/ut.ipynb#X55sZmlsZQ%3D%3D?line=4'>5</a>\u001b[0m     \u001b[39mif\u001b[39;00m maup\u001b[39m.\u001b[39mdoctor(df):\n\u001b[1;32m      <a href='vscode-notebook-cell:/Users/aagarwal/Desktop/Redestring%20AI/Utah/ut.ipynb#X55sZmlsZQ%3D%3D?line=5'>6</a>\u001b[0m         \u001b[39mprint\u001b[39m(\u001b[39m'\u001b[39m\u001b[39msmart_repair successful\u001b[39m\u001b[39m'\u001b[39m)\n",
      "File \u001b[0;32m~/anaconda3/envs/gerry/lib/python3.11/site-packages/maup/smart_repair.py:181\u001b[0m, in \u001b[0;36msmart_repair\u001b[0;34m(geometries_df, snapped, snap_precision, fill_gaps, fill_gaps_threshold, disconnection_threshold, nest_within_regions, min_rook_length)\u001b[0m\n\u001b[1;32m    178\u001b[0m             \u001b[39mprint\u001b[39m(num_holes_dropped, \u001b[39m\"\u001b[39m\u001b[39mgaps will remain unfilled, because they either are not simply connected or exceed the area threshold.\u001b[39m\u001b[39m\"\u001b[39m)\n\u001b[1;32m    180\u001b[0m         \u001b[39mprint\u001b[39m(\u001b[39m\"\u001b[39m\u001b[39mFilling gaps...\u001b[39m\u001b[39m\"\u001b[39m)\n\u001b[0;32m--> 181\u001b[0m         reconstructed_df \u001b[39m=\u001b[39m smart_close_gaps(reconstructed_df, holes_df)\n\u001b[1;32m    183\u001b[0m \u001b[39melse\u001b[39;00m:\n\u001b[1;32m    184\u001b[0m     \u001b[39mif\u001b[39;00m fill_gaps:\n",
      "File \u001b[0;32m~/anaconda3/envs/gerry/lib/python3.11/site-packages/maup/smart_repair.py:636\u001b[0m, in \u001b[0;36msmart_close_gaps\u001b[0;34m(geometries_df, holes_df)\u001b[0m\n\u001b[1;32m    633\u001b[0m holes_df \u001b[39m=\u001b[39m holes_df\u001b[39m.\u001b[39mcopy()\n\u001b[1;32m    635\u001b[0m \u001b[39m# First step is to simplify gaps by convexifying the geometry boundaries:\u001b[39;00m\n\u001b[0;32m--> 636\u001b[0m geometries_df, holes_df \u001b[39m=\u001b[39m convexify_hole_boundaries(geometries_df, holes_df)\n\u001b[1;32m    638\u001b[0m \u001b[39m# Now proceed with filling simplified gaps.\u001b[39;00m\n\u001b[1;32m    639\u001b[0m \u001b[39mif\u001b[39;00m \u001b[39mlen\u001b[39m(holes_df) \u001b[39m>\u001b[39m \u001b[39m0\u001b[39m:\n",
      "File \u001b[0;32m~/anaconda3/envs/gerry/lib/python3.11/site-packages/maup/smart_repair.py:1587\u001b[0m, in \u001b[0;36mconvexify_hole_boundaries\u001b[0;34m(geometries_df, holes_df)\u001b[0m\n\u001b[1;32m   1584\u001b[0m start \u001b[39m=\u001b[39m \u001b[39mlist\u001b[39m(extract_unique_points(thb)\u001b[39m.\u001b[39mgeoms)[\u001b[39m0\u001b[39m]\n\u001b[1;32m   1585\u001b[0m end \u001b[39m=\u001b[39m \u001b[39mlist\u001b[39m(extract_unique_points(thb)\u001b[39m.\u001b[39mgeoms)[\u001b[39m-\u001b[39m\u001b[39m1\u001b[39m]\n\u001b[0;32m-> 1587\u001b[0m sp \u001b[39m=\u001b[39m LineString(shortest_path_in_polygon(this_hole, start, end, full_triangulation\u001b[39m=\u001b[39mthis_hole_triangulation))\n\u001b[1;32m   1589\u001b[0m piece_to_add_boundary \u001b[39m=\u001b[39m unary_union([thb, sp])\n\u001b[1;32m   1590\u001b[0m \u001b[39mif\u001b[39;00m piece_to_add_boundary\u001b[39m.\u001b[39mgeom_type \u001b[39m==\u001b[39m \u001b[39m\"\u001b[39m\u001b[39mMultiLineString\u001b[39m\u001b[39m\"\u001b[39m:\n",
      "File \u001b[0;32m~/anaconda3/envs/gerry/lib/python3.11/site-packages/maup/smart_repair.py:1470\u001b[0m, in \u001b[0;36mshortest_path_in_polygon\u001b[0;34m(polygon, start, end, full_triangulation)\u001b[0m\n\u001b[1;32m   1468\u001b[0m \u001b[39melse\u001b[39;00m:\n\u001b[1;32m   1469\u001b[0m     \u001b[39mfor\u001b[39;00m i \u001b[39min\u001b[39;00m \u001b[39mrange\u001b[39m(\u001b[39m1\u001b[39m, \u001b[39mlen\u001b[39m(this_funnel)):\n\u001b[0;32m-> 1470\u001b[0m         \u001b[39mif\u001b[39;00m polygon_simplified\u001b[39m.\u001b[39mcontains(LineString([this_funnel[i], point])) \u001b[39mor\u001b[39;00m polygon_simplified\u001b[39m.\u001b[39mboundary\u001b[39m.\u001b[39mcontains(LineString([this_funnel[i], point])):\n\u001b[1;32m   1471\u001b[0m             first_seen \u001b[39m=\u001b[39m i\n\u001b[1;32m   1472\u001b[0m             \u001b[39mbreak\u001b[39;00m\n",
      "File \u001b[0;32m~/anaconda3/envs/gerry/lib/python3.11/site-packages/shapely/geometry/base.py:675\u001b[0m, in \u001b[0;36mBaseGeometry.contains\u001b[0;34m(self, other)\u001b[0m\n\u001b[1;32m    673\u001b[0m \u001b[39mdef\u001b[39;00m \u001b[39mcontains\u001b[39m(\u001b[39mself\u001b[39m, other):\n\u001b[1;32m    674\u001b[0m \u001b[39m    \u001b[39m\u001b[39m\"\"\"Returns True if the geometry contains the other, else False\"\"\"\u001b[39;00m\n\u001b[0;32m--> 675\u001b[0m     \u001b[39mreturn\u001b[39;00m _maybe_unpack(shapely\u001b[39m.\u001b[39mcontains(\u001b[39mself\u001b[39m, other))\n",
      "File \u001b[0;32m~/anaconda3/envs/gerry/lib/python3.11/site-packages/shapely/decorators.py:77\u001b[0m, in \u001b[0;36mmultithreading_enabled.<locals>.wrapped\u001b[0;34m(*args, **kwargs)\u001b[0m\n\u001b[1;32m     75\u001b[0m     \u001b[39mfor\u001b[39;00m arr \u001b[39min\u001b[39;00m array_args:\n\u001b[1;32m     76\u001b[0m         arr\u001b[39m.\u001b[39mflags\u001b[39m.\u001b[39mwriteable \u001b[39m=\u001b[39m \u001b[39mFalse\u001b[39;00m\n\u001b[0;32m---> 77\u001b[0m     \u001b[39mreturn\u001b[39;00m func(\u001b[39m*\u001b[39margs, \u001b[39m*\u001b[39m\u001b[39m*\u001b[39mkwargs)\n\u001b[1;32m     78\u001b[0m \u001b[39mfinally\u001b[39;00m:\n\u001b[1;32m     79\u001b[0m     \u001b[39mfor\u001b[39;00m arr, old_flag \u001b[39min\u001b[39;00m \u001b[39mzip\u001b[39m(array_args, old_flags):\n",
      "File \u001b[0;32m~/anaconda3/envs/gerry/lib/python3.11/site-packages/shapely/predicates.py:526\u001b[0m, in \u001b[0;36mcontains\u001b[0;34m(a, b, **kwargs)\u001b[0m\n\u001b[1;32m    472\u001b[0m \u001b[39m@multithreading_enabled\u001b[39m\n\u001b[1;32m    473\u001b[0m \u001b[39mdef\u001b[39;00m \u001b[39mcontains\u001b[39m(a, b, \u001b[39m*\u001b[39m\u001b[39m*\u001b[39mkwargs):\n\u001b[1;32m    474\u001b[0m \u001b[39m    \u001b[39m\u001b[39m\"\"\"Returns True if geometry B is completely inside geometry A.\u001b[39;00m\n\u001b[1;32m    475\u001b[0m \n\u001b[1;32m    476\u001b[0m \u001b[39m    A contains B if no points of B lie in the exterior of A and at least one\u001b[39;00m\n\u001b[0;32m   (...)\u001b[0m\n\u001b[1;32m    524\u001b[0m \u001b[39m    False\u001b[39;00m\n\u001b[1;32m    525\u001b[0m \u001b[39m    \"\"\"\u001b[39;00m\n\u001b[0;32m--> 526\u001b[0m     \u001b[39mreturn\u001b[39;00m lib\u001b[39m.\u001b[39mcontains(a, b, \u001b[39m*\u001b[39m\u001b[39m*\u001b[39mkwargs)\n",
      "\u001b[0;31mGEOSException\u001b[0m: TopologyException: side location conflict at 458030.48999999999 4467307.64011. This can occur if the input geometry is invalid."
     ]
    }
   ],
   "source": [
    "election_df = add_vest(vest16, election_df, '16', population_df, 4)"
   ]
  },
  {
   "cell_type": "markdown",
   "metadata": {},
   "source": [
    "##  Add the district data"
   ]
  },
  {
   "cell_type": "code",
   "execution_count": 35,
   "metadata": {},
   "outputs": [
    {
     "name": "stderr",
     "output_type": "stream",
     "text": [
      "Gaps to simplify:  98%|█████████▊| 9907/10136 [4:42:15<06:31,  1.71s/it]\n"
     ]
    }
   ],
   "source": [
    "send = gpd.read_file(send_data)\n",
    "hdist = gpd.read_file(hdist_data)"
   ]
  },
  {
   "cell_type": "code",
   "execution_count": 36,
   "metadata": {},
   "outputs": [
    {
     "data": {
      "text/html": [
       "<div>\n",
       "<style scoped>\n",
       "    .dataframe tbody tr th:only-of-type {\n",
       "        vertical-align: middle;\n",
       "    }\n",
       "\n",
       "    .dataframe tbody tr th {\n",
       "        vertical-align: top;\n",
       "    }\n",
       "\n",
       "    .dataframe thead th {\n",
       "        text-align: right;\n",
       "    }\n",
       "</style>\n",
       "<table border=\"1\" class=\"dataframe\">\n",
       "  <thead>\n",
       "    <tr style=\"text-align: right;\">\n",
       "      <th></th>\n",
       "      <th>DISTRICTNO</th>\n",
       "      <th>TAPERSONS</th>\n",
       "      <th>VAPERSONS</th>\n",
       "      <th>geometry</th>\n",
       "    </tr>\n",
       "  </thead>\n",
       "  <tbody>\n",
       "    <tr>\n",
       "      <th>0</th>\n",
       "      <td>1.0</td>\n",
       "      <td>817904.0</td>\n",
       "      <td>584771.0</td>\n",
       "      <td>POLYGON ((-112.49352 41.07689, -112.50079 41.0...</td>\n",
       "    </tr>\n",
       "    <tr>\n",
       "      <th>1</th>\n",
       "      <td>2.0</td>\n",
       "      <td>817904.0</td>\n",
       "      <td>594250.0</td>\n",
       "      <td>POLYGON ((-114.05282 37.53103, -114.05283 37.5...</td>\n",
       "    </tr>\n",
       "    <tr>\n",
       "      <th>2</th>\n",
       "      <td>3.0</td>\n",
       "      <td>817904.0</td>\n",
       "      <td>592597.0</td>\n",
       "      <td>POLYGON ((-111.91429 40.45920, -111.91427 40.4...</td>\n",
       "    </tr>\n",
       "    <tr>\n",
       "      <th>3</th>\n",
       "      <td>4.0</td>\n",
       "      <td>817904.0</td>\n",
       "      <td>552433.0</td>\n",
       "      <td>POLYGON ((-112.35344 39.55526, -112.35163 39.5...</td>\n",
       "    </tr>\n",
       "  </tbody>\n",
       "</table>\n",
       "</div>"
      ],
      "text/plain": [
       "   DISTRICTNO  TAPERSONS  VAPERSONS  \\\n",
       "0         1.0   817904.0   584771.0   \n",
       "1         2.0   817904.0   594250.0   \n",
       "2         3.0   817904.0   592597.0   \n",
       "3         4.0   817904.0   552433.0   \n",
       "\n",
       "                                            geometry  \n",
       "0  POLYGON ((-112.49352 41.07689, -112.50079 41.0...  \n",
       "1  POLYGON ((-114.05282 37.53103, -114.05283 37.5...  \n",
       "2  POLYGON ((-111.91429 40.45920, -111.91427 40.4...  \n",
       "3  POLYGON ((-112.35344 39.55526, -112.35163 39.5...  "
      ]
     },
     "execution_count": 36,
     "metadata": {},
     "output_type": "execute_result"
    }
   ],
   "source": [
    "cong_df.head()"
   ]
  },
  {
   "cell_type": "code",
   "execution_count": 37,
   "metadata": {},
   "outputs": [
    {
     "name": "stderr",
     "output_type": "stream",
     "text": [
      "100%|██████████| 4/4 [00:00<00:00, 26.63it/s]\n",
      "100%|██████████| 4/4 [00:00<00:00, 43.10it/s]\n",
      "100%|██████████| 4/4 [00:00<00:00,  7.07it/s]\n"
     ]
    }
   ],
   "source": [
    "election_df = add_district(cong_df, \"CD\", election_df, \"DISTRICTNO\")"
   ]
  },
  {
   "cell_type": "code",
   "execution_count": 38,
   "metadata": {},
   "outputs": [
    {
     "data": {
      "text/html": [
       "<div>\n",
       "<style scoped>\n",
       "    .dataframe tbody tr th:only-of-type {\n",
       "        vertical-align: middle;\n",
       "    }\n",
       "\n",
       "    .dataframe tbody tr th {\n",
       "        vertical-align: top;\n",
       "    }\n",
       "\n",
       "    .dataframe thead th {\n",
       "        text-align: right;\n",
       "    }\n",
       "</style>\n",
       "<table border=\"1\" class=\"dataframe\">\n",
       "  <thead>\n",
       "    <tr style=\"text-align: right;\">\n",
       "      <th></th>\n",
       "      <th>DISTRICTNO</th>\n",
       "      <th>TAPERSONS</th>\n",
       "      <th>VAPERSONS</th>\n",
       "      <th>geometry</th>\n",
       "    </tr>\n",
       "  </thead>\n",
       "  <tbody>\n",
       "    <tr>\n",
       "      <th>0</th>\n",
       "      <td>1.0</td>\n",
       "      <td>110855.0</td>\n",
       "      <td>73770.0</td>\n",
       "      <td>POLYGON ((-114.04400 40.68998, -114.04400 40.6...</td>\n",
       "    </tr>\n",
       "    <tr>\n",
       "      <th>1</th>\n",
       "      <td>2.0</td>\n",
       "      <td>111491.0</td>\n",
       "      <td>80463.0</td>\n",
       "      <td>POLYGON ((-112.16601 41.99618, -112.16577 41.9...</td>\n",
       "    </tr>\n",
       "    <tr>\n",
       "      <th>2</th>\n",
       "      <td>3.0</td>\n",
       "      <td>112971.0</td>\n",
       "      <td>81369.0</td>\n",
       "      <td>POLYGON ((-112.01667 41.32123, -112.01572 41.3...</td>\n",
       "    </tr>\n",
       "    <tr>\n",
       "      <th>3</th>\n",
       "      <td>4.0</td>\n",
       "      <td>113791.0</td>\n",
       "      <td>78686.0</td>\n",
       "      <td>POLYGON ((-112.49341 41.07700, -112.48324 41.0...</td>\n",
       "    </tr>\n",
       "    <tr>\n",
       "      <th>4</th>\n",
       "      <td>5.0</td>\n",
       "      <td>112790.0</td>\n",
       "      <td>82763.0</td>\n",
       "      <td>POLYGON ((-112.03909 41.11807, -112.03764 41.1...</td>\n",
       "    </tr>\n",
       "  </tbody>\n",
       "</table>\n",
       "</div>"
      ],
      "text/plain": [
       "   DISTRICTNO  TAPERSONS  VAPERSONS  \\\n",
       "0         1.0   110855.0    73770.0   \n",
       "1         2.0   111491.0    80463.0   \n",
       "2         3.0   112971.0    81369.0   \n",
       "3         4.0   113791.0    78686.0   \n",
       "4         5.0   112790.0    82763.0   \n",
       "\n",
       "                                            geometry  \n",
       "0  POLYGON ((-114.04400 40.68998, -114.04400 40.6...  \n",
       "1  POLYGON ((-112.16601 41.99618, -112.16577 41.9...  \n",
       "2  POLYGON ((-112.01667 41.32123, -112.01572 41.3...  \n",
       "3  POLYGON ((-112.49341 41.07700, -112.48324 41.0...  \n",
       "4  POLYGON ((-112.03909 41.11807, -112.03764 41.1...  "
      ]
     },
     "execution_count": 38,
     "metadata": {},
     "output_type": "execute_result"
    }
   ],
   "source": [
    "send.head()"
   ]
  },
  {
   "cell_type": "code",
   "execution_count": 39,
   "metadata": {},
   "outputs": [
    {
     "name": "stderr",
     "output_type": "stream",
     "text": [
      "100%|██████████| 29/29 [00:00<00:00, 78.67it/s]\n",
      "100%|██████████| 29/29 [00:00<00:00, 177.64it/s]\n",
      "100%|██████████| 29/29 [00:01<00:00, 18.72it/s]\n"
     ]
    }
   ],
   "source": [
    "election_df = add_district(send, \"SEND\", election_df, \"DISTRICTNO\")"
   ]
  },
  {
   "cell_type": "code",
   "execution_count": 40,
   "metadata": {},
   "outputs": [
    {
     "data": {
      "text/html": [
       "<div>\n",
       "<style scoped>\n",
       "    .dataframe tbody tr th:only-of-type {\n",
       "        vertical-align: middle;\n",
       "    }\n",
       "\n",
       "    .dataframe tbody tr th {\n",
       "        vertical-align: top;\n",
       "    }\n",
       "\n",
       "    .dataframe thead th {\n",
       "        text-align: right;\n",
       "    }\n",
       "</style>\n",
       "<table border=\"1\" class=\"dataframe\">\n",
       "  <thead>\n",
       "    <tr style=\"text-align: right;\">\n",
       "      <th></th>\n",
       "      <th>DISTRICTNO</th>\n",
       "      <th>TAPERSONS</th>\n",
       "      <th>VAPERSONS</th>\n",
       "      <th>geometry</th>\n",
       "    </tr>\n",
       "  </thead>\n",
       "  <tbody>\n",
       "    <tr>\n",
       "      <th>0</th>\n",
       "      <td>1.0</td>\n",
       "      <td>43137.0</td>\n",
       "      <td>29337.0</td>\n",
       "      <td>POLYGON ((-114.04202 41.00156, -114.04195 41.0...</td>\n",
       "    </tr>\n",
       "    <tr>\n",
       "      <th>1</th>\n",
       "      <td>2.0</td>\n",
       "      <td>43892.0</td>\n",
       "      <td>29836.0</td>\n",
       "      <td>POLYGON ((-112.04335 41.83757, -112.04317 41.8...</td>\n",
       "    </tr>\n",
       "    <tr>\n",
       "      <th>2</th>\n",
       "      <td>3.0</td>\n",
       "      <td>43860.0</td>\n",
       "      <td>34965.0</td>\n",
       "      <td>POLYGON ((-111.90172 41.74938, -111.90148 41.7...</td>\n",
       "    </tr>\n",
       "    <tr>\n",
       "      <th>3</th>\n",
       "      <td>4.0</td>\n",
       "      <td>43697.0</td>\n",
       "      <td>31102.0</td>\n",
       "      <td>POLYGON ((-111.85724 41.13729, -111.85723 41.1...</td>\n",
       "    </tr>\n",
       "    <tr>\n",
       "      <th>4</th>\n",
       "      <td>5.0</td>\n",
       "      <td>43323.0</td>\n",
       "      <td>27924.0</td>\n",
       "      <td>POLYGON ((-112.05186 41.70016, -112.05170 41.7...</td>\n",
       "    </tr>\n",
       "  </tbody>\n",
       "</table>\n",
       "</div>"
      ],
      "text/plain": [
       "   DISTRICTNO  TAPERSONS  VAPERSONS  \\\n",
       "0         1.0    43137.0    29337.0   \n",
       "1         2.0    43892.0    29836.0   \n",
       "2         3.0    43860.0    34965.0   \n",
       "3         4.0    43697.0    31102.0   \n",
       "4         5.0    43323.0    27924.0   \n",
       "\n",
       "                                            geometry  \n",
       "0  POLYGON ((-114.04202 41.00156, -114.04195 41.0...  \n",
       "1  POLYGON ((-112.04335 41.83757, -112.04317 41.8...  \n",
       "2  POLYGON ((-111.90172 41.74938, -111.90148 41.7...  \n",
       "3  POLYGON ((-111.85724 41.13729, -111.85723 41.1...  \n",
       "4  POLYGON ((-112.05186 41.70016, -112.05170 41.7...  "
      ]
     },
     "execution_count": 40,
     "metadata": {},
     "output_type": "execute_result"
    }
   ],
   "source": [
    "hdist.head()"
   ]
  },
  {
   "cell_type": "code",
   "execution_count": 41,
   "metadata": {},
   "outputs": [
    {
     "name": "stderr",
     "output_type": "stream",
     "text": [
      "100%|██████████| 75/75 [00:00<00:00, 153.44it/s]\n",
      "100%|██████████| 75/75 [00:00<00:00, 419.61it/s]\n",
      "100%|██████████| 75/75 [00:01<00:00, 49.72it/s]\n"
     ]
    }
   ],
   "source": [
    "hdist = hdist.to_crs(\"EPSG:4269\")\n",
    "election_df = add_district(hdist, \"HDIST\", election_df, \"DISTRICTNO\")"
   ]
  },
  {
   "cell_type": "code",
   "execution_count": 42,
   "metadata": {},
   "outputs": [
    {
     "data": {
      "text/plain": [
       "Index(['ATG20D', 'ATG20O', 'ATG20R', 'AUD20O', 'AUD20R', 'CountyID', 'GOV20D',\n",
       "       'GOV20O', 'GOV20R', 'PRE20D', 'PRE20O', 'PRE20R', 'TRE20O', 'TRE20R',\n",
       "       'geometry', 'resultspre', 'vistapre', 'TOTPOP', 'HISP', 'NH_WHITE',\n",
       "       'NH_BLACK', 'NH_AMIN', 'NH_ASIAN', 'NH_NHPI', 'NH_OTHER', 'NH_2MORE',\n",
       "       'H_WHITE', 'H_BLACK', 'H_AMIN', 'H_ASIAN', 'H_NHPI', 'H_OTHER',\n",
       "       'H_2MORE', 'VAP', 'HVAP', 'WVAP', 'BVAP', 'AMINVAP', 'ASIANVAP',\n",
       "       'NHPIVAP', 'OTHERVAP', '2MOREVAP', 'CD', 'SEND', 'HDIST'],\n",
       "      dtype='object')"
      ]
     },
     "execution_count": 42,
     "metadata": {},
     "output_type": "execute_result"
    }
   ],
   "source": [
    "election_df.columns"
   ]
  },
  {
   "cell_type": "markdown",
   "metadata": {},
   "source": [
    "### Put the base precinct year after the precinct information column"
   ]
  },
  {
   "cell_type": "code",
   "execution_count": 43,
   "metadata": {},
   "outputs": [],
   "source": [
    "base_columns = {}\n",
    "if 'COUNTYFP' + year not in election_df.columns:\n",
    "    base_columns = {\n",
    "        'CountyID':'CountyID'+year,\n",
    "        'vistapre':'vistapre'+year,\n",
    "        'resultspre':'resultspre'+year}\n",
    "election_df.rename(columns=base_columns, inplace = True)"
   ]
  },
  {
   "cell_type": "code",
   "execution_count": 44,
   "metadata": {},
   "outputs": [
    {
     "data": {
      "text/plain": [
       "Index(['ATG20D', 'ATG20O', 'ATG20R', 'AUD20O', 'AUD20R', 'CountyID20',\n",
       "       'GOV20D', 'GOV20O', 'GOV20R', 'PRE20D', 'PRE20O', 'PRE20R', 'TRE20O',\n",
       "       'TRE20R', 'geometry', 'resultspre20', 'vistapre20', 'TOTPOP', 'HISP',\n",
       "       'NH_WHITE', 'NH_BLACK', 'NH_AMIN', 'NH_ASIAN', 'NH_NHPI', 'NH_OTHER',\n",
       "       'NH_2MORE', 'H_WHITE', 'H_BLACK', 'H_AMIN', 'H_ASIAN', 'H_NHPI',\n",
       "       'H_OTHER', 'H_2MORE', 'VAP', 'HVAP', 'WVAP', 'BVAP', 'AMINVAP',\n",
       "       'ASIANVAP', 'NHPIVAP', 'OTHERVAP', '2MOREVAP', 'CD', 'SEND', 'HDIST'],\n",
       "      dtype='object')"
      ]
     },
     "execution_count": 44,
     "metadata": {},
     "output_type": "execute_result"
    }
   ],
   "source": [
    "election_df.columns"
   ]
  },
  {
   "cell_type": "code",
   "execution_count": 45,
   "metadata": {},
   "outputs": [],
   "source": [
    "# reorder the columns\n",
    "fixed_columns = [\n",
    "    'CountyID'+year,\n",
    "    'vistapre'+year,\n",
    "    'resultspre'+year,\n",
    "    'CD',\n",
    "    'SEND',\n",
    "    'HDIST',\n",
    "    'TOTPOP',\n",
    "    'NH_2MORE',\n",
    "    'NH_AMIN',\n",
    "    'NH_ASIAN',\n",
    "    'NH_BLACK',\n",
    "    'NH_NHPI',\n",
    "    'NH_OTHER',\n",
    "    'NH_WHITE',\n",
    "    'HISP',\n",
    "    'H_AMIN',\n",
    "    'H_ASIAN',\n",
    "    'H_BLACK',\n",
    "    'H_NHPI',\n",
    "    'H_OTHER',\n",
    "    'H_WHITE',\n",
    "    'H_2MORE',\n",
    "    'VAP',\n",
    "    'HVAP',\n",
    "    'WVAP',\n",
    "    'BVAP',\n",
    "    'AMINVAP',\n",
    "    'ASIANVAP',\n",
    "    'NHPIVAP',\n",
    "    'OTHERVAP',\n",
    "    '2MOREVAP']\n",
    "\n",
    "election_columns = [col for col in election_df.columns if col not in fixed_columns]\n",
    "final_col = fixed_columns + election_columns\n",
    "election_df = election_df[final_col]"
   ]
  },
  {
   "cell_type": "code",
   "execution_count": 46,
   "metadata": {},
   "outputs": [],
   "source": [
    "import os\n",
    "\n",
    "# store the result in directory \"il\"\n",
    "directory = \"./{}\".format(state_ab)\n",
    "if not os.path.exists(directory):\n",
    "    os.makedirs(directory)\n",
    "\n",
    "shapefile_path = \"./{}/{}.shp\".format(state_ab, state_ab)\n",
    "geojson_path = './{}/{}.geojson'.format(state_ab, state_ab)\n",
    "json_path = \"./{}/{}.json\".format(state_ab, state_ab)\n",
    "\n",
    "# Check if the shapefile or geojson file already exists\n",
    "if os.path.exists(shapefile_path):\n",
    "    os.remove(shapefile_path)\n",
    "if os.path.exists(geojson_path):\n",
    "    os.remove(geojson_path)\n",
    "\n",
    "election_df.to_file(shapefile_path)\n",
    "election_df.to_file(geojson_path, driver='GeoJSON')\n",
    "\n",
    "# Only do once to build json and read from file when generating ensembles\n",
    "graph = Graph.from_file(shapefile_path, ignore_errors=True)\n",
    "graph.to_json(json_path)"
   ]
  },
  {
   "cell_type": "code",
   "execution_count": 47,
   "metadata": {},
   "outputs": [
    {
     "data": {
      "text/plain": [
       "<Axes: >"
      ]
     },
     "execution_count": 47,
     "metadata": {},
     "output_type": "execute_result"
    },
    {
     "data": {
      "image/png": "[encoded data removed]",
      "text/plain": [
       "<Figure size 640x480 with 1 Axes>"
      ]
     },
     "metadata": {},
     "output_type": "display_data"
    }
   ],
   "source": [
    "shapefile_path = \"./{}/{}.shp\".format(state_ab, state_ab)\n",
    "shape=gpd.read_file(shapefile_path)\n",
    "shape.plot()"
   ]
  }
 ],
 "metadata": {
  "kernelspec": {
   "display_name": "gerry",
   "language": "python",
   "name": "python3"
  },
  "language_info": {
   "codemirror_mode": {
    "name": "ipython",
    "version": 3
   },
   "file_extension": ".py",
   "mimetype": "text/x-python",
   "name": "python",
   "nbconvert_exporter": "python",
   "pygments_lexer": "ipython3",
   "version": "3.11.7"
  }
 },
 "nbformat": 4,
 "nbformat_minor": 2
}
