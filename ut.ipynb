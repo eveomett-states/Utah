{
 "cells": [
  {
   "cell_type": "code",
   "execution_count": 1,
   "metadata": {},
   "outputs": [],
   "source": [
    "import os\n",
    "import pandas as pd\n",
    "import geopandas as gpd\n",
    "import maup\n",
    "import time\n",
    "from maup import smart_repair\n",
    "from gerrychain import Graph\n",
    "\n",
    "maup.progress.enabled = True"
   ]
  },
  {
   "cell_type": "code",
   "execution_count": 2,
   "metadata": {},
   "outputs": [],
   "source": [
    "import warnings\n",
    "warnings.filterwarnings(\"ignore\")"
   ]
  },
  {
   "cell_type": "code",
   "execution_count": 3,
   "metadata": {},
   "outputs": [],
   "source": [
    "# Utah\n",
    "state_ab = \"ut\""
   ]
  },
  {
   "cell_type": "markdown",
   "metadata": {},
   "source": [
    "## Data\n",
    "1. Download all the data in directory \"ut_data\"\n",
    "2. Extract them all"
   ]
  },
  {
   "cell_type": "code",
   "execution_count": 5,
   "metadata": {},
   "outputs": [],
   "source": [
    "data_folder = state_ab + \"_data/\"\n",
    "population1_data = \"./{}{}_pl2020_b/{}_pl2020_p1_b.shp\".format(data_folder, state_ab, state_ab)\n",
    "population2_data = \"./{}{}_pl2020_b/{}_pl2020_p2_b.shp\".format(data_folder, state_ab, state_ab)\n",
    "vap_data =  \"./{}{}_pl2020_b/{}_pl2020_p4_b.shp\".format(data_folder, state_ab, state_ab)\n",
    "vest20_data = \"./{}{}_vest_20/{}_vest_20.shp\".format(data_folder, state_ab, state_ab)\n",
    "cd_data = \"./{}{}_cong_2021/ut_cong_2021.shp\".format(data_folder, state_ab)\n",
    "send_data = \"./{}{}_sldu_2021/ut_sldu_2021.shp\".format(data_folder, state_ab)\n",
    "hdist_data = \"./{}{}_sldl_2021/ut_sldl_2021.shp\".format(data_folder, state_ab)\n",
    "county_data = \"./{}{}_pl2020_cnty/{}_pl2020_cnty.shp\".format(data_folder, state_ab, state_ab)"
   ]
  },
  {
   "cell_type": "code",
   "execution_count": 6,
   "metadata": {},
   "outputs": [],
   "source": [
    "def do_smart_repair(df, min_rook_length = None, snap_precision = 10):\n",
    "    # change it to the UTM it needs for smart_repair\n",
    "    df = df.to_crs(df.estimate_utm_crs())\n",
    "    df = smart_repair(df, min_rook_length = min_rook_length, snap_precision = snap_precision)\n",
    "\n",
    "    if maup.doctor(df) == False:\n",
    "        raise Exception('maup.doctor failed')\n",
    "    \n",
    "    return df"
   ]
  },
  {
   "cell_type": "code",
   "execution_count": 7,
   "metadata": {},
   "outputs": [],
   "source": [
    "def add_district(dist_df, dist_name, election_df, col_name):\n",
    "    election_df = election_df.to_crs(election_df.estimate_utm_crs())\n",
    "    dist_df = dist_df.to_crs(dist_df.estimate_utm_crs())\n",
    "    # check if it needs to be smart_repair\n",
    "    if maup.doctor(dist_df) != True:\n",
    "        dist_df = do_smart_repair(dist_df)\n",
    "\n",
    "    # assign the pricincts\n",
    "    precincts_to_district_assignment = maup.assign(election_df.geometry, dist_df.geometry)\n",
    "    election_df[dist_name] = precincts_to_district_assignment\n",
    "    for precinct_index in range(len(election_df)):\n",
    "        election_df.at[precinct_index, dist_name] = dist_df.at[election_df.at[precinct_index, dist_name], col_name]\n",
    "\n",
    "    return election_df"
   ]
  },
  {
   "cell_type": "code",
   "execution_count": 8,
   "metadata": {},
   "outputs": [],
   "source": [
    "def rename(original, year):\n",
    "    party = original[6]\n",
    "    if party == 'R' or party == 'D':\n",
    "        return original[3:6] + year + original[6]\n",
    "    else:\n",
    "        return original[3:6] + year + 'O'"
   ]
  },
  {
   "cell_type": "code",
   "execution_count": 9,
   "metadata": {},
   "outputs": [],
   "source": [
    "def check_population(population, df):\n",
    "    pop_check = pd.DataFrame({\n",
    "        'pop_col': pop_col,\n",
    "        'population_df': population[pop_col].sum(), \n",
    "        'vest_base': df[pop_col].sum(),\n",
    "        'equal': [x == y for x, y in zip(population[pop_col].sum(), df[pop_col].sum())]\n",
    "    })\n",
    "    if pop_check['equal'].mean() < 1:\n",
    "        print(pop_check)\n",
    "        raise Exception(\"population doesn't agree\")\n",
    "\n",
    "    else:\n",
    "        print(\"population agrees\")"
   ]
  },
  {
   "cell_type": "code",
   "execution_count": 10,
   "metadata": {},
   "outputs": [],
   "source": [
    "def add_vest(vest, df, year, population, start_col, snap_precision = 10):\n",
    "    df = df.to_crs(df.estimate_utm_crs())\n",
    "    vest = vest.to_crs(vest.estimate_utm_crs())\n",
    "    population = population.to_crs(population.estimate_utm_crs())\n",
    "    df_crs = df.crs\n",
    "    vest_crs = vest.crs\n",
    "    \n",
    "     # check if it needs to be smart_repair\n",
    "    if maup.doctor(vest) != True:\n",
    "        vest = do_smart_repair(vest, snap_precision = snap_precision)\n",
    "    \n",
    "    # rename the columns\n",
    "    original_col = vest.columns[start_col:-1]\n",
    "    new_col = [rename(i, year) for i in original_col]\n",
    "    rename_dict = dict(zip(original_col, new_col))\n",
    "    vest = vest.rename(columns=rename_dict)\n",
    "    vest = vest.groupby(level=0, axis=1).sum() # combine all the other party's vote into columns with sufix \"O\"\n",
    "    col_name = list(set(new_col))\n",
    "    col_name.sort()\n",
    "    \n",
    "    # make the blocks from precincts by weight\n",
    "    vest = gpd.GeoDataFrame(vest, crs=vest_crs)\n",
    "    election_in_block = population[[\"VAP\", 'geometry']] # population_df is in block scale\n",
    "    blocks_to_precincts_assignment = maup.assign(election_in_block.geometry, vest.geometry)\n",
    "    weights = election_in_block[\"VAP\"] / blocks_to_precincts_assignment.map(election_in_block[\"VAP\"].groupby(blocks_to_precincts_assignment).sum())\n",
    "    weights = weights.fillna(0)\n",
    "    prorated = maup.prorate(blocks_to_precincts_assignment, vest[col_name], weights)\n",
    "    election_in_block[col_name] = prorated\n",
    "    \n",
    "    # assign blocks to precincts\n",
    "    election_in_block = gpd.GeoDataFrame(election_in_block, crs=vest_crs)\n",
    "    df = gpd.GeoDataFrame(df, crs=df_crs)\n",
    "    block_to_pricinct_assginment = maup.assign(election_in_block.geometry, df.geometry)\n",
    "    df[col_name] = election_in_block[col_name].groupby(block_to_pricinct_assginment).sum()\n",
    "    df = df.groupby(level=0, axis=1).sum()\n",
    "    df = gpd.GeoDataFrame(df, crs = df_crs)\n",
    "    # check if population agrees\n",
    "    check_population(population, df)\n",
    "    \n",
    "    return df"
   ]
  },
  {
   "cell_type": "code",
   "execution_count": 11,
   "metadata": {},
   "outputs": [],
   "source": [
    "def add_vest_base(vest, start_col, year, county = None, min_rook_length = None, snap_precision = 10):\n",
    "    vest = vest.to_crs(vest.estimate_utm_crs())\n",
    "    vest_crs = vest.crs\n",
    "    original_col = vest.columns[start_col:-1]\n",
    "    new_col = [rename(i, year) for i in original_col]\n",
    "    rename_dict = dict(zip(original_col, new_col))\n",
    "    vest = vest.rename(columns=rename_dict)\n",
    "    vest = vest.groupby(level=0, axis=1).sum()\n",
    "    vest = gpd.GeoDataFrame(vest, crs=vest_crs)\n",
    "\n",
    "    if county is not None:\n",
    "        county = county.to_crs(county.estimate_utm_crs())\n",
    "        vest = smart_repair(vest, nest_within_regions = county, min_rook_length = min_rook_length, snap_precision = snap_precision) # nest precincts within counties\n",
    "\n",
    "    else:\n",
    "        vest = smart_repair(vest, min_rook_length = min_rook_length, snap_precision = snap_precision) \n",
    "    \n",
    "    return vest"
   ]
  },
  {
   "cell_type": "code",
   "execution_count": 12,
   "metadata": {},
   "outputs": [],
   "source": [
    "def check_small_boundary_lengths(vest_base):\n",
    "    import copy\n",
    "    vest_base = vest_base.to_crs(vest_base.estimate_utm_crs())\n",
    "\n",
    "    boundaries = copy.deepcopy(vest_base)\n",
    "    boundaries[\"geometry\"] = boundaries.geometry.boundary  # get boundaries\n",
    "    neighbors = gpd.sjoin(boundaries, vest_base, predicate=\"intersects\") # find boundaries that intersect\n",
    "    neighbors = neighbors[neighbors.index != neighbors.index_right] # remove boundaries of a region with itself\n",
    "\n",
    "    # compute shared border length using intersection\n",
    "    borders = list(neighbors.apply(\n",
    "        lambda row: row.geometry.intersection(vest_base.loc[row.index_right, \"geometry\"]).length, axis=1\n",
    "    ))\n",
    "\n",
    "    borders.sort()\n",
    "    \n",
    "    return borders"
   ]
  },
  {
   "cell_type": "markdown",
   "metadata": {},
   "source": [
    "### Read the census data"
   ]
  },
  {
   "cell_type": "code",
   "execution_count": 14,
   "metadata": {},
   "outputs": [],
   "source": [
    "population1_df = gpd.read_file(population1_data)\n",
    "population2_df = gpd.read_file(population2_data)\n",
    "vap_df = gpd.read_file(vap_data)\n",
    "county_df = gpd.read_file(county_data)"
   ]
  },
  {
   "cell_type": "code",
   "execution_count": 15,
   "metadata": {},
   "outputs": [],
   "source": [
    "population2_df = population2_df.drop(columns=['SUMLEV', 'LOGRECNO', 'GEOID', 'COUNTY', 'geometry'])\n",
    "vap_df = vap_df.drop(columns=['SUMLEV', 'LOGRECNO', 'GEOID', 'COUNTY', 'geometry'])"
   ]
  },
  {
   "cell_type": "code",
   "execution_count": 16,
   "metadata": {},
   "outputs": [],
   "source": [
    "population_df = pd.merge(population1_df, population2_df, on='GEOID20')\n",
    "population_df = pd.merge(population_df, vap_df, on='GEOID20')\n",
    "population_df = population_df.to_crs(population_df.estimate_utm_crs())"
   ]
  },
  {
   "cell_type": "code",
   "execution_count": 17,
   "metadata": {},
   "outputs": [
    {
     "name": "stderr",
     "output_type": "stream",
     "text": [
      "100%|███████████████████████████████████| 71207/71207 [00:32<00:00, 2205.99it/s]\n"
     ]
    },
    {
     "data": {
      "text/plain": [
       "True"
      ]
     },
     "execution_count": 17,
     "metadata": {},
     "output_type": "execute_result"
    }
   ],
   "source": [
    "maup.doctor(population_df)"
   ]
  },
  {
   "cell_type": "code",
   "execution_count": 18,
   "metadata": {},
   "outputs": [],
   "source": [
    "rename_dict = {'P0020001': 'TOTPOP', 'P0020002': 'HISP', 'P0020005': 'NH_WHITE', 'P0020006': 'NH_BLACK', 'P0020007': 'NH_AMIN',\n",
    "               'P0020008': 'NH_ASIAN', 'P0020009': 'NH_NHPI', 'P0020010': 'NH_OTHER', 'P0020011': 'NH_2MORE',\n",
    "               'P0040001': 'VAP', 'P0040002': 'HVAP', 'P0040005': 'WVAP', 'P0040006': 'BVAP', 'P0040007': 'AMINVAP',\n",
    "               'P0040008': 'ASIANVAP', 'P0040009': 'NHPIVAP', 'P0040010': 'OTHERVAP', 'P0040011': '2MOREVAP'}"
   ]
  },
  {
   "cell_type": "code",
   "execution_count": 19,
   "metadata": {},
   "outputs": [],
   "source": [
    "population_df.rename(columns=rename_dict, inplace = True)"
   ]
  },
  {
   "cell_type": "code",
   "execution_count": 20,
   "metadata": {},
   "outputs": [],
   "source": [
    "population_df['H_WHITE'] = population_df.apply(lambda t: t['P0010003'] - t['NH_WHITE'], 1)\n",
    "population_df['H_BLACK'] = population_df.apply(lambda t: t['P0010004'] - t['NH_BLACK'], 1)\n",
    "population_df['H_AMIN'] = population_df.apply(lambda t: t['P0010005'] - t['NH_AMIN'], 1)\n",
    "population_df['H_ASIAN'] = population_df.apply(lambda t: t['P0010006'] - t['NH_ASIAN'], 1)\n",
    "population_df['H_NHPI'] = population_df.apply(lambda t: t['P0010007'] - t['NH_NHPI'], 1)\n",
    "population_df['H_OTHER'] = population_df.apply(lambda t: t['P0010008'] - t['NH_OTHER'], 1)\n",
    "population_df['H_2MORE'] = population_df.apply(lambda t: t['P0010009'] - t['NH_2MORE'], 1)"
   ]
  },
  {
   "cell_type": "markdown",
   "metadata": {},
   "source": [
    "Make sure that the County shapefile is clean:"
   ]
  },
  {
   "cell_type": "code",
   "execution_count": 22,
   "metadata": {},
   "outputs": [
    {
     "name": "stderr",
     "output_type": "stream",
     "text": [
      "100%|██████████████████████████████████████████| 29/29 [00:00<00:00, 201.02it/s]\n"
     ]
    },
    {
     "data": {
      "text/plain": [
       "True"
      ]
     },
     "execution_count": 22,
     "metadata": {},
     "output_type": "execute_result"
    }
   ],
   "source": [
    "maup.doctor(county_df)"
   ]
  },
  {
   "cell_type": "markdown",
   "metadata": {},
   "source": [
    "## Read the vest 20 data\n",
    "\n",
    "Now using it as a \"base pricinct\""
   ]
  },
  {
   "cell_type": "markdown",
   "metadata": {},
   "source": [
    "## Check if vest20 can be used as base"
   ]
  },
  {
   "cell_type": "code",
   "execution_count": 25,
   "metadata": {},
   "outputs": [
    {
     "name": "stderr",
     "output_type": "stream",
     "text": [
      "100%|█████████████████████████████████████| 2424/2424 [00:02<00:00, 1197.81it/s]\n"
     ]
    },
    {
     "name": "stdout",
     "output_type": "stream",
     "text": [
      "There are 1880 overlaps.\n",
      "There are 9442 holes.\n",
      "There are some invalid geometries.\n",
      "Snapping all geometries to a grid with precision 10^( -5 ) to avoid GEOS errors.\n",
      "Identifying overlaps...\n"
     ]
    },
    {
     "name": "stderr",
     "output_type": "stream",
     "text": [
      "100%|███████████████████████████████████| 21637/21637 [00:10<00:00, 1975.14it/s]\n"
     ]
    },
    {
     "name": "stdout",
     "output_type": "stream",
     "text": [
      "Resolving overlaps...\n",
      "Assigning order 2 pieces...\n",
      "Assigning order 3 pieces...\n",
      "Filling gaps...\n"
     ]
    },
    {
     "name": "stderr",
     "output_type": "stream",
     "text": [
      "Gaps to simplify: 9450it [29:30,  5.34it/s]                                     \n",
      "Gaps to fill: 100%|███████████████████████████| 311/311 [01:34<00:00,  3.30it/s]\n",
      "100%|█████████████████████████████████████| 2424/2424 [00:01<00:00, 1223.85it/s]\n"
     ]
    }
   ],
   "source": [
    "vest20 = gpd.read_file(vest20_data)\n",
    "if maup.doctor(vest20) != True:\n",
    "    vest20 = do_smart_repair(vest20)"
   ]
  },
  {
   "cell_type": "code",
   "execution_count": 26,
   "metadata": {},
   "outputs": [
    {
     "data": {
      "text/plain": [
       "Index(['CountyID', 'vistapre', 'resultspre', 'G20PRERTRU', 'G20PREDBID',\n",
       "       'G20PRELJOR', 'G20PREGHAW', 'G20PRECBLA', 'G20PREIPIE', 'G20PREIWES',\n",
       "       'G20PREIMCH', 'G20PREILAR', 'G20PREOWRI', 'G20GOVRCOX', 'G20GOVDPET',\n",
       "       'G20GOVLCOT', 'G20GOVADUE', 'G20GOVOWRI', 'G20ATGRREY', 'G20ATGDSKO',\n",
       "       'G20ATGLBAU', 'G20AUDRDOU', 'G20AUDCOST', 'G20AUDUFAB', 'G20TRERDAM',\n",
       "       'G20TRELSPE', 'G20TRECPRO', 'geometry'],\n",
       "      dtype='object')"
      ]
     },
     "execution_count": 26,
     "metadata": {},
     "output_type": "execute_result"
    }
   ],
   "source": [
    "vest20.columns"
   ]
  },
  {
   "cell_type": "code",
   "execution_count": 27,
   "metadata": {},
   "outputs": [],
   "source": [
    "start_col = 3\n",
    "vest_base_data = vest20\n",
    "year = '20'\n"
   ]
  },
  {
   "cell_type": "code",
   "execution_count": 28,
   "metadata": {},
   "outputs": [
    {
     "name": "stderr",
     "output_type": "stream",
     "text": [
      "100%|██████████████████████████████████████████| 29/29 [00:00<00:00, 186.47it/s]\n"
     ]
    },
    {
     "name": "stdout",
     "output_type": "stream",
     "text": [
      "Snapping all geometries to a grid with precision 10^( -3 ) to avoid GEOS errors.\n"
     ]
    },
    {
     "name": "stderr",
     "output_type": "stream",
     "text": [
      "100%|██████████████████████████████████████████| 29/29 [00:00<00:00, 636.83it/s]\n",
      "100%|███████████████████████████████████████████| 29/29 [00:00<00:00, 57.61it/s]\n"
     ]
    },
    {
     "name": "stdout",
     "output_type": "stream",
     "text": [
      "Identifying overlaps...\n"
     ]
    },
    {
     "name": "stderr",
     "output_type": "stream",
     "text": [
      "100%|███████████████████████████████████| 22866/22866 [00:20<00:00, 1108.57it/s]\n"
     ]
    },
    {
     "name": "stdout",
     "output_type": "stream",
     "text": [
      "Resolving overlaps and filling gaps...\n"
     ]
    },
    {
     "name": "stderr",
     "output_type": "stream",
     "text": [
      "100%|██████████████████████████████████████████| 29/29 [00:00<00:00, 756.25it/s]\n",
      "100%|███████████████████████████████████████████| 29/29 [00:00<00:00, 58.32it/s]\n",
      "Gaps to simplify in region 0: 100%|█████████████| 77/77 [00:02<00:00, 30.32it/s]\n",
      "Gaps to fill in region 0: 100%|█████████████████| 15/15 [00:00<00:00, 16.42it/s]\n",
      "Gaps to simplify in region 1: 100%|██████████| 266/266 [00:02<00:00, 112.46it/s]\n",
      "Gaps to fill in region 1: 100%|███████████████████| 6/6 [00:00<00:00, 41.29it/s]\n",
      "Gaps to simplify in region 2: 100%|█████████| 2656/2656 [00:58<00:00, 45.64it/s]\n",
      "Gaps to fill in region 2: 100%|█████████████████| 14/14 [00:00<00:00, 29.19it/s]\n",
      "Gaps to simplify in region 3: 100%|███████████| 659/659 [00:23<00:00, 28.29it/s]\n",
      "Gaps to fill in region 3: 100%|███████████████████| 5/5 [00:00<00:00,  9.08it/s]\n",
      "Gaps to simplify in region 4: 100%|███████████| 194/194 [00:09<00:00, 21.39it/s]\n",
      "Gaps to fill in region 4: 100%|███████████████████| 2/2 [00:00<00:00,  3.32it/s]\n",
      "Gaps to simplify in region 5: 100%|███████████| 421/421 [00:10<00:00, 39.71it/s]\n",
      "Gaps to fill in region 5: 100%|███████████████████| 2/2 [00:00<00:00, 10.62it/s]\n",
      "Gaps to simplify in region 6: 100%|███████████| 429/429 [01:05<00:00,  6.55it/s]\n",
      "Gaps to fill in region 6: 100%|███████████████████| 2/2 [00:00<00:00,  3.57it/s]\n",
      "Gaps to simplify in region 7: 100%|█████████| 1204/1204 [00:35<00:00, 33.77it/s]\n",
      "Gaps to fill in region 7: 100%|█████████████████| 18/18 [00:00<00:00, 19.23it/s]\n",
      "Gaps to simplify in region 8: 100%|███████████| 179/179 [00:03<00:00, 50.06it/s]\n",
      "Gaps to fill in region 8: 100%|███████████████████| 4/4 [00:00<00:00, 22.42it/s]\n",
      "Gaps to simplify in region 9: 100%|███████████| 407/407 [00:05<00:00, 78.73it/s]\n",
      "Gaps to fill in region 9: 100%|█████████████████| 24/24 [00:00<00:00, 39.68it/s]\n",
      "Gaps to simplify in region 10: 100%|██████████| 407/407 [00:11<00:00, 34.60it/s]\n",
      "Gaps to fill in region 10: 100%|██████████████████| 3/3 [00:00<00:00, 11.77it/s]\n",
      "Gaps to simplify in region 11: 100%|██████████| 246/246 [00:02<00:00, 95.10it/s]\n",
      "Gaps to fill in region 11: 100%|████████████████| 10/10 [00:00<00:00, 72.62it/s]\n",
      "Gaps to simplify in region 12: 100%|██████████| 204/204 [00:02<00:00, 95.63it/s]\n",
      "Gaps to fill in region 12: 100%|██████████████████| 6/6 [00:00<00:00, 42.67it/s]\n",
      "Gaps to simplify in region 13: 100%|██████████| 704/704 [00:39<00:00, 17.69it/s]\n",
      "Gaps to fill in region 13: 100%|██████████████████| 5/5 [00:00<00:00,  7.34it/s]\n",
      "Gaps to simplify in region 14: 100%|████████| 1431/1431 [00:51<00:00, 27.70it/s]\n",
      "Gaps to fill in region 14: 100%|██████████████████| 4/4 [00:00<00:00, 11.33it/s]\n",
      "Gaps to simplify in region 15: 100%|██████████| 481/481 [00:05<00:00, 94.28it/s]\n",
      "Gaps to fill in region 15: 100%|██████████████████| 8/8 [00:00<00:00, 37.07it/s]\n",
      "Gaps to simplify in region 16: 100%|██████████| 367/367 [00:05<00:00, 72.62it/s]\n",
      "Gaps to fill in region 16: 100%|████████████████| 12/12 [00:00<00:00, 39.24it/s]\n",
      "Gaps to simplify in region 17: 100%|██████████| 969/969 [00:33<00:00, 28.82it/s]\n",
      "Gaps to fill in region 17: 100%|██████████████████| 3/3 [00:00<00:00,  5.16it/s]\n",
      "Gaps to simplify in region 18: 100%|████████| 1059/1059 [00:14<00:00, 71.67it/s]\n",
      "Gaps to fill in region 18: 100%|██████████████████| 9/9 [00:00<00:00, 25.23it/s]\n",
      "Gaps to simplify in region 19: 100%|██████████| 516/516 [00:07<00:00, 68.66it/s]\n",
      "Gaps to fill in region 19: 100%|██████████████████| 9/9 [00:01<00:00,  6.94it/s]\n",
      "Gaps to simplify in region 20: 100%|██████████| 440/440 [00:05<00:00, 73.60it/s]\n",
      "Gaps to fill in region 20: 100%|████████████████| 33/33 [00:00<00:00, 49.17it/s]\n",
      "Gaps to simplify in region 21: 100%|█████████| 878/878 [00:08<00:00, 102.17it/s]\n",
      "Gaps to fill in region 21: 100%|████████████████| 10/10 [00:00<00:00, 50.05it/s]\n",
      "Gaps to simplify in region 22: 100%|█████████| 185/185 [00:01<00:00, 182.12it/s]\n",
      "Gaps to fill in region 22: 100%|██████████████████| 9/9 [00:00<00:00, 67.75it/s]\n",
      "Gaps to simplify in region 23: 100%|████████| 2357/2357 [01:11<00:00, 32.94it/s]\n",
      "Gaps to fill in region 23: 100%|██████████████████| 6/6 [00:00<00:00, 19.04it/s]\n",
      "Gaps to simplify in region 24: 937it [00:22, 41.31it/s]                         \n",
      "Gaps to fill in region 24: 100%|████████████████| 24/24 [00:01<00:00, 17.38it/s]\n",
      "Gaps to simplify in region 25: 100%|██████████| 351/351 [00:14<00:00, 24.43it/s]\n",
      "Gaps to fill in region 25: 100%|██████████████████| 5/5 [00:00<00:00, 10.75it/s]\n",
      "Gaps to simplify in region 26: 688it [00:22, 30.54it/s]                         \n",
      "Gaps to fill in region 26: 100%|████████████████| 57/57 [00:03<00:00, 17.37it/s]\n",
      "Gaps to simplify in region 27: 100%|██████████| 270/270 [00:04<00:00, 59.52it/s]\n",
      "Gaps to fill in region 27: 100%|██████████████████| 4/4 [00:00<00:00, 29.82it/s]\n",
      "Gaps to simplify in region 28: 100%|██████████| 182/182 [00:04<00:00, 39.08it/s]\n",
      "Gaps to fill in region 28: 100%|██████████████████| 9/9 [00:00<00:00, 13.46it/s]\n"
     ]
    },
    {
     "name": "stdout",
     "output_type": "stream",
     "text": [
      "WARNING: A component of the geometry at index 2131 may have been disconnected!\n"
     ]
    }
   ],
   "source": [
    "vest_base = add_vest_base(vest20, start_col, year, county = county_df, snap_precision = 8)"
   ]
  },
  {
   "cell_type": "markdown",
   "metadata": {},
   "source": [
    "Let's look at the border lengths.  If there's a clear reasonable cutoff for switching rook adjacencies to queen, we use that.  Otherwise, we can use 30.5 m (which is approximately 100 ft).  This is not a magic number, just a reasonable one.\n"
   ]
  },
  {
   "cell_type": "code",
   "execution_count": 30,
   "metadata": {},
   "outputs": [
    {
     "name": "stdout",
     "output_type": "stream",
     "text": [
      "[0.0, 0.0, 0.0, 0.0, 0.0, 0.0, 0.0, 0.0, 0.0, 0.0, 0.0, 0.0, 0.0, 0.0, 0.0, 0.0, 0.0, 0.0, 0.0, 0.0, 0.0, 0.0, 0.0, 0.0, 0.0, 0.0, 0.0, 0.0, 0.0, 0.0, 0.0, 0.0, 0.0, 0.0, 0.0, 0.0, 0.0, 0.0, 0.0, 0.0, 0.0, 0.0, 0.0, 0.0, 0.0, 0.0, 0.0, 0.0, 0.0, 0.0, 0.0, 0.0, 0.0, 0.0, 0.0, 0.0, 0.0, 0.0, 0.0, 0.0, 0.0, 0.0, 0.0, 0.0, 0.0, 0.0, 0.0, 0.0, 0.0, 0.0, 0.0, 0.0, 0.0, 0.0, 0.0, 0.0, 0.0, 0.0, 0.0, 0.0, 0.0, 0.0, 0.0, 0.0, 0.0, 0.0, 0.0, 0.0, 0.0, 0.0, 0.0, 0.0, 0.0, 0.0, 0.0, 0.0, 0.0, 0.0, 0.0, 0.0, 0.0, 0.0, 0.0, 0.0, 0.0, 0.0, 0.0, 0.0, 0.0, 0.0, 0.0, 0.0, 0.0, 0.0, 0.0, 0.0, 0.0, 0.0, 0.0, 0.0, 0.0, 0.0, 0.0, 0.0, 0.0, 0.0, 0.0, 0.0, 0.0, 0.0, 0.0, 0.0, 0.0, 0.0, 0.0, 0.0, 0.0, 0.0, 0.0, 0.0, 0.0, 0.0, 0.0, 0.0, 0.0, 0.0, 0.0, 0.0, 0.0, 0.0, 0.0, 0.0, 0.0, 0.0, 0.0, 0.0, 0.0, 0.0, 0.0, 0.0, 0.0, 0.0, 0.0, 0.0, 0.0, 0.0, 0.0, 0.0, 0.0, 0.0, 0.0, 0.0, 0.0, 0.0, 0.0, 0.0, 0.0, 0.0, 0.0, 0.0, 0.0, 0.0, 0.0, 0.0, 0.0, 0.0, 0.0, 0.0, 0.0, 0.0, 0.0, 0.0, 0.0, 0.0, 0.0, 0.0, 0.0, 0.0, 0.0, 0.0, 0.0, 0.0, 0.0, 0.0, 0.0, 0.0, 0.0, 0.0, 0.0, 0.0, 0.0, 0.0, 0.0, 0.0, 0.0, 0.0, 0.0, 0.0, 0.0, 0.0, 0.0, 0.0, 0.0, 0.0, 0.0, 0.0, 0.0, 0.0, 0.0, 0.0, 0.0, 0.0, 0.0, 0.0, 0.0, 0.0, 0.0, 0.0, 0.0, 0.0, 0.0, 0.0, 0.0, 0.0, 0.0, 0.0, 0.0, 0.0, 0.0, 0.0, 0.0, 0.0, 0.0, 0.0, 0.0, 0.0, 0.0, 0.0, 0.0, 0.0, 0.0, 0.0, 0.0, 0.0, 0.0, 0.0, 0.0, 0.0, 0.0, 0.0, 0.0, 0.0, 0.0, 0.0, 0.0, 0.0, 0.0, 0.0, 0.0, 0.0, 0.0, 0.0, 0.0, 0.0, 0.0, 0.0, 0.0, 0.0, 0.0, 0.0, 0.0, 0.0, 0.0, 0.0, 0.0, 0.0, 0.0, 0.0, 0.0, 0.0, 0.0, 0.0, 0.0, 0.0, 0.0, 0.0, 0.0, 0.0, 0.0, 0.0, 0.0, 0.0, 0.0, 0.0, 0.0, 0.0, 0.0, 0.0, 0.0, 0.0, 0.0, 0.0, 0.0, 0.0, 0.0, 0.0, 0.0, 0.0, 0.0, 0.0, 0.0, 0.0, 0.0, 0.0, 0.0, 0.0, 0.0, 0.0, 0.0, 0.0, 0.0, 0.0, 0.0, 0.0, 0.0, 0.0, 0.0, 0.0, 0.0, 0.0, 0.0, 0.0, 0.0, 0.0, 0.0, 0.0, 0.0, 0.0, 0.0, 0.0, 0.0, 0.0, 0.0, 0.0, 0.0, 0.0, 0.0, 0.0, 0.0, 0.0, 0.0, 0.0, 0.0, 0.0, 0.0, 0.0, 0.0, 0.0, 0.0, 0.0, 0.0, 0.0, 0.0, 0.0, 0.0, 0.0, 0.0, 0.0, 0.0, 0.0, 0.0, 0.0, 0.0, 0.0, 0.0, 0.0, 0.0, 0.0, 0.0, 0.0, 0.0, 0.0, 0.0, 0.0, 0.0, 0.0, 0.0, 0.0, 0.0, 0.0, 0.0, 0.0, 0.0, 0.0, 0.0, 0.0, 0.0, 0.0, 0.0, 0.0, 0.0, 0.0, 0.0, 0.0, 0.0, 0.0, 0.0, 0.0, 0.0, 0.0, 0.0, 0.0, 0.0, 0.0, 0.0, 0.0, 0.0, 0.0, 0.0, 0.0, 0.0, 0.0, 0.0, 0.0, 0.0, 0.0, 0.0, 0.0, 0.0, 0.0, 0.0, 0.0, 0.0, 0.0, 0.0, 0.0, 0.0, 0.0, 0.0, 0.0, 0.0, 0.0, 0.0, 0.0, 0.0, 0.0, 0.0, 0.0, 0.0, 0.0, 0.0, 0.0, 0.0, 0.0, 0.0, 0.0, 0.0, 0.0, 0.0, 0.0, 0.0, 0.0, 0.0, 0.0, 0.0, 0.0, 0.0, 0.0, 0.0, 0.0, 0.0, 0.0, 0.0, 0.0, 0.0, 0.0, 0.0, 0.0, 0.0, 0.0, 0.0, 0.0, 0.0, 0.0, 0.0, 0.0, 0.0, 0.0, 0.0, 0.0, 0.0, 0.0, 0.0, 0.0, 0.0, 0.0, 0.0, 0.0, 0.0, 0.0, 0.0, 0.0, 0.0, 0.0, 0.0, 0.0, 0.0, 0.0, 0.0, 0.0, 0.0, 0.0, 0.0, 0.0, 0.0, 0.0, 0.0, 0.0, 0.0, 0.0, 0.0, 0.0, 0.0, 0.0, 0.0, 0.0, 0.0, 0.0, 0.0, 0.0, 0.0, 0.0, 0.0, 0.0, 0.0, 0.0, 0.0, 0.0, 0.0, 0.0, 0.0, 0.0, 0.0, 0.0, 0.0, 0.0, 0.0, 0.0, 0.0, 0.0, 0.0, 0.0, 0.0, 0.0, 0.0, 0.0, 0.0, 0.0, 0.0, 0.0, 0.0, 0.0, 0.0, 0.0, 0.0, 0.0, 0.0, 0.0, 0.0, 0.0, 0.0, 0.0, 0.0, 0.0, 0.0, 0.0, 0.0, 0.0, 0.0, 0.0, 0.0, 0.0, 0.0, 0.0, 0.0, 0.0, 0.0, 0.0, 0.0, 0.0, 0.0, 0.0, 0.0, 0.0, 0.0, 0.0, 0.0, 0.0, 0.0, 0.0, 0.0, 0.0, 0.0, 0.0, 0.0, 0.0, 0.0, 0.0, 0.0, 0.0, 0.0, 0.0, 0.0, 0.0, 0.0, 0.0, 0.0, 0.0, 0.0, 0.0, 0.0, 0.0, 0.0, 0.0, 0.0, 0.0, 0.0, 0.0, 0.0, 0.0, 0.0, 0.0, 0.0, 0.0, 0.0, 0.0, 0.0, 0.0, 0.0, 0.0, 0.0, 0.0, 0.0, 0.0, 0.0, 0.0, 0.0, 0.0, 0.0, 0.0, 0.0, 0.0, 0.0, 0.0, 0.0, 0.0, 0.0, 0.0, 0.0, 0.0, 0.0, 0.0, 0.0, 0.0, 0.0, 0.0, 0.0, 0.0, 0.0, 0.0, 0.0, 0.0, 0.0, 0.0, 0.0, 0.0, 0.0, 0.0, 0.0, 0.0, 0.0, 0.0, 0.0, 0.0, 0.005472135688141799, 0.005472135688141799, 0.008246210711158865, 0.008246210711158865, 0.008944272230704252, 0.008944272230704252, 0.009099019217556122, 0.009099019217556122, 0.018027034397133178, 0.018027034397133178, 0.01811077019158003, 0.01811077019158003, 0.019832587453345277, 0.019832587453345277, 0.02121320316723954, 0.02121320316723954, 0.02900820406819645, 0.02900820406819645, 0.030000000027939677, 0.030000000027939677, 0.043737855972300024, 0.043737855972300024, 0.04465422734135555, 0.04465422734135555, 0.052999999781604856, 0.052999999781604856, 0.06500000030500816, 0.06500000030500816, 0.06701470251107762, 0.06701470251107762, 0.07071067840676798, 0.07071067840676798, 0.07602631158448545, 0.07602631158448545, 0.12165525071926467, 0.12165525071926467, 0.18500000052154064, 0.18500000052154064, 0.19901004988156323, 0.19901004988156323, 0.2380021008399468, 0.2380021008399468, 0.2580484445129511, 0.2580484445129511, 0.26500754702058066, 0.26500754702058066, 0.31410189569946256, 0.31410189569946256, 0.3412755485840092, 0.3412755485840092, 0.3600000000442378, 0.3600000000442378, 0.3860207248376267, 0.3860207248376267, 0.438097021232394, 0.438097021232394, 0.4630692542051356, 0.4630692542051356, 0.5001351104666458, 0.5001351104666458, 0.5387995918928045, 0.5387995918928045, 0.7030007109838589, 0.7030007109838589, 0.7600006579039811, 0.7600006579039811, 0.7802563681417182, 0.7802563681417182, 0.7998888740502784, 0.7998888740502784, 0.8000624983031732, 0.8000624983031732, 0.8160026313332763, 0.8160026313332763, 0.9314504821331523, 0.9314504821331523, 0.9922015924380625, 0.9922015924380625, 1.0124228364479677, 1.0124228364479677, 1.1363318181743178, 1.1363318181743178, 1.2020066560697555, 1.2020066560697555, 1.430009244259279, 1.430009244259279, 1.6251110731273462, 1.6251110731273462, 1.942346004261175, 1.942346004261175, 1.9430092639729781, 1.9430092639729781, 2.0722789393786987, 2.0722789393786987, 2.1788804464898854, 2.1788804464898854, 2.3207001098883517, 2.3207001098883517, 2.524156089093623, 2.524156089093623, 2.835077776673703, 2.835077776673703, 2.9017236256030654, 2.9017236256030654, 2.993000668242769, 2.993000668242769, 3.130143766673473, 3.130143766673473, 3.260111923659456, 3.260111923659456, 3.2829549188064706, 3.2829549188064706, 3.8503246612630426, 3.8503246612630426, 3.904524170591314, 3.904524170591314, 3.947635823349497, 3.947635823349497, 4.140778540761284, 4.140778540761285, 4.187263784361446, 4.187263784361446, 4.251176307799447, 4.251176307799447, 4.262113325810213, 4.262113325810213, 4.290895128213772, 4.290895128213772, 4.361115192248583, 4.361115192248583, 4.381220492245, 4.381220492245, 4.476516502783346, 4.476516502783346, 4.878299487437734, 4.878299487437734, 4.896960894595935, 4.896960894595935, 4.910366585242187, 4.910366585242187, 4.9756291059802935, 4.9756291059802935, 5.14195604775852, 5.14195604775852, 5.640079786685045, 5.640079786685045, 5.649787606785202, 5.649787606785202, 6.554417441835653, 6.554417441835653, 6.845315551224663, 6.845315551224663, 6.9341088107827575, 6.9341088107827575, 7.046424374271306, 7.046424374271306, 7.17574476974613, 7.17574476974613, 7.215725002852869, 7.215725002852871, 7.2695096120546605, 7.2695096120546605, 7.342078724725071, 7.342078724725071, 7.695365488405047, 7.695365488405047, 8.122665634277226, 8.122665634277226, 8.284342243033787, 8.284342243033787, 8.42235290008302, 8.42235290008302, 8.573649164755917, 8.573649164755917, 8.718681379653903, 8.718681379653903, 8.875032450642944, 8.875032450642944, 9.357726273101708, 9.357726273101708, 9.384274718923349, 9.384274718923349, 9.54743368685217, 9.54743368685217, 10.0760541879427, 10.0760541879427, 10.086253318370229, 10.086253318370229, 10.541839023655248, 10.541839023655248, 10.648517690252044, 10.648517690252044, 10.820785993058204, 10.820785993058204, 10.931029228816081, 10.931029228816081, 11.215194202532885, 11.215194202532885, 11.356233970928287, 11.356233970928287, 11.680385447551386, 11.680385447551386, 11.742063064034685, 11.742063064034685, 11.960422949730447, 11.960422949730447, 11.964653476141498, 11.964653476141498, 11.971319893911096, 11.971319893911096, 12.064641372154329, 12.064641372154329, 12.171478464218888, 12.171478464218888, 12.191729991656164, 12.191729991656164, 13.33404083542692, 13.33404083542692, 13.544165717885578, 13.544165717885578, 13.674314653968967, 13.674314653968967, 14.371704123030435, 14.371704123030435, 14.451084007969504, 14.451084007969504, 14.61411988459661, 14.61411988459661, 14.77923229721527, 14.77923229721527, 15.154714696694557, 15.154714696694557, 15.6498618096858, 15.6498618096858, 15.700156706895859, 15.700156706895859, 15.763368294792928, 15.763368294792928, 15.908118996322191, 15.908118996322191, 15.908659310761752, 15.908659310761752, 15.995720490196502, 15.995720490196502, 16.511465713260975, 16.511465713260975, 16.59313332338486, 16.59313332338486, 16.847784928559705, 16.847784928559705, 17.02575989483832, 17.02575989483832, 17.217012006195702, 17.217012006195702, 17.273295375693404, 17.273295375693404, 17.350329964655778, 17.350329964655778, 17.53194159226115, 17.53194159226115, 18.15732773768827, 18.15732773768827, 18.198939859206597, 18.198939859206597, 18.54852156337479, 18.54852156337479, 19.13491912705134, 19.13491912705134, 19.14672433084495, 19.14672433084495, 19.195188199427605, 19.195188199427605, 19.88232793213196, 19.88232793213196, 19.924866290564154, 19.924866290564154, 20.181894560434596, 20.181894560434596, 20.205332984153774, 20.205332984153774, 20.385563278785614, 20.385563278785618, 20.520487939601097, 20.520487939601097, 20.54107348707801, 20.54107348707801, 21.01970770390421, 21.01970770390421, 21.27135397620421, 21.27135397620421, 21.31183943257941, 21.31183943257941, 21.734042099934243, 21.734042099934243, 21.894614622373993, 21.894614622373993]\n"
     ]
    }
   ],
   "source": [
    "borders = check_small_boundary_lengths(vest_base)\n",
    "print(borders[500:1500])"
   ]
  },
  {
   "cell_type": "markdown",
   "metadata": {},
   "source": [
    "It's not clear what the cutoff should be here; let's use 30.5.\n"
   ]
  },
  {
   "cell_type": "code",
   "execution_count": 32,
   "metadata": {},
   "outputs": [
    {
     "name": "stdout",
     "output_type": "stream",
     "text": [
      "Snapping all geometries to a grid with precision 10^( -5 ) to avoid GEOS errors.\n",
      "Identifying overlaps...\n"
     ]
    },
    {
     "name": "stderr",
     "output_type": "stream",
     "text": [
      "100%|█████████████████████████████████████| 2641/2641 [00:00<00:00, 3867.46it/s]\n"
     ]
    },
    {
     "name": "stdout",
     "output_type": "stream",
     "text": [
      "Resolving overlaps...\n",
      "Filling gaps...\n"
     ]
    },
    {
     "name": "stderr",
     "output_type": "stream",
     "text": [
      "Gaps to simplify: 0it [00:00, ?it/s]\n",
      "Gaps to fill: 0it [00:00, ?it/s]\n"
     ]
    },
    {
     "name": "stdout",
     "output_type": "stream",
     "text": [
      "Converting small rook adjacencies to queen...\n"
     ]
    },
    {
     "name": "stderr",
     "output_type": "stream",
     "text": [
      "100%|█████████████████████████████████████| 2424/2424 [00:01<00:00, 1343.48it/s]\n",
      "100%|███████████████████████████████████████████| 4/4 [00:00<00:00, 3322.22it/s]\n",
      "100%|███████████████████████████████████████████| 4/4 [00:00<00:00, 3239.47it/s]\n",
      "100%|███████████████████████████████████████████| 5/5 [00:00<00:00, 3915.52it/s]\n",
      "100%|███████████████████████████████████████████| 5/5 [00:00<00:00, 3804.70it/s]\n",
      "100%|███████████████████████████████████████████| 5/5 [00:00<00:00, 3576.32it/s]\n",
      "100%|███████████████████████████████████████████| 5/5 [00:00<00:00, 3487.12it/s]\n",
      "100%|███████████████████████████████████████████| 5/5 [00:00<00:00, 3487.12it/s]\n",
      "100%|███████████████████████████████████████████| 5/5 [00:00<00:00, 3412.78it/s]\n",
      "100%|███████████████████████████████████████████| 4/4 [00:00<00:00, 3303.25it/s]\n",
      "100%|███████████████████████████████████████████| 4/4 [00:00<00:00, 3475.70it/s]\n",
      "100%|███████████████████████████████████████████| 4/4 [00:00<00:00, 3344.74it/s]\n",
      "100%|███████████████████████████████████████████| 5/5 [00:00<00:00, 3479.60it/s]\n",
      "100%|███████████████████████████████████████████| 5/5 [00:00<00:00, 3647.22it/s]\n",
      "100%|███████████████████████████████████████████| 5/5 [00:00<00:00, 3394.00it/s]\n",
      "100%|███████████████████████████████████████████| 4/4 [00:00<00:00, 3161.34it/s]\n",
      "100%|███████████████████████████████████████████| 4/4 [00:00<00:00, 3347.41it/s]\n",
      "100%|███████████████████████████████████████████| 4/4 [00:00<00:00, 2643.33it/s]\n",
      "100%|███████████████████████████████████████████| 5/5 [00:00<00:00, 3465.22it/s]\n",
      "100%|███████████████████████████████████████████| 6/6 [00:00<00:00, 3780.92it/s]\n",
      "100%|███████████████████████████████████████████| 6/6 [00:00<00:00, 3658.89it/s]\n",
      "100%|███████████████████████████████████████████| 5/5 [00:00<00:00, 3479.60it/s]\n",
      "100%|███████████████████████████████████████████| 4/4 [00:00<00:00, 3300.65it/s]\n",
      "100%|███████████████████████████████████████████| 5/5 [00:00<00:00, 3401.71it/s]\n",
      "100%|███████████████████████████████████████████| 4/4 [00:00<00:00, 3246.37it/s]\n",
      "100%|███████████████████████████████████████████| 8/8 [00:00<00:00, 4107.03it/s]\n",
      "100%|███████████████████████████████████████████| 4/4 [00:00<00:00, 3568.10it/s]\n",
      "100%|███████████████████████████████████████████| 4/4 [00:00<00:00, 3338.75it/s]\n",
      "100%|███████████████████████████████████████████| 4/4 [00:00<00:00, 3568.10it/s]\n",
      "100%|███████████████████████████████████████████| 5/5 [00:00<00:00, 3501.67it/s]\n",
      "100%|███████████████████████████████████████████| 4/4 [00:00<00:00, 3241.35it/s]\n",
      "100%|███████████████████████████████████████████| 6/6 [00:00<00:00, 3881.22it/s]\n",
      "100%|███████████████████████████████████████████| 5/5 [00:00<00:00, 3586.71it/s]\n",
      "100%|███████████████████████████████████████████| 4/4 [00:00<00:00, 3278.72it/s]\n",
      "100%|███████████████████████████████████████████| 6/6 [00:00<00:00, 3965.00it/s]\n",
      "100%|███████████████████████████████████████████| 4/4 [00:00<00:00, 3319.59it/s]\n",
      "100%|███████████████████████████████████████████| 4/4 [00:00<00:00, 3276.16it/s]\n",
      "100%|███████████████████████████████████████████| 4/4 [00:00<00:00, 3225.15it/s]\n",
      "100%|███████████████████████████████████████████| 4/4 [00:00<00:00, 3194.44it/s]\n",
      "100%|███████████████████████████████████████████| 4/4 [00:00<00:00, 3264.68it/s]\n",
      "100%|███████████████████████████████████████████| 4/4 [00:00<00:00, 3378.42it/s]\n",
      "100%|███████████████████████████████████████████| 5/5 [00:00<00:00, 3750.94it/s]\n",
      "100%|███████████████████████████████████████████| 4/4 [00:00<00:00, 3338.75it/s]\n",
      "100%|███████████████████████████████████████████| 4/4 [00:00<00:00, 3372.98it/s]\n",
      "100%|███████████████████████████████████████████| 5/5 [00:00<00:00, 3521.07it/s]\n",
      "100%|███████████████████████████████████████████| 4/4 [00:00<00:00, 3564.31it/s]\n",
      "100%|███████████████████████████████████████████| 4/4 [00:00<00:00, 3174.50it/s]\n",
      "100%|███████████████████████████████████████████| 4/4 [00:00<00:00, 3322.22it/s]\n",
      "100%|███████████████████████████████████████████| 4/4 [00:00<00:00, 3430.92it/s]\n",
      "100%|███████████████████████████████████████████| 4/4 [00:00<00:00, 3218.34it/s]\n",
      "100%|███████████████████████████████████████████| 4/4 [00:00<00:00, 3338.75it/s]\n",
      "100%|███████████████████████████████████████████| 4/4 [00:00<00:00, 2370.00it/s]\n",
      "100%|███████████████████████████████████████████| 3/3 [00:00<00:00, 3092.38it/s]\n",
      "100%|███████████████████████████████████████████| 6/6 [00:00<00:00, 3724.41it/s]\n",
      "100%|███████████████████████████████████████████| 6/6 [00:00<00:00, 3658.89it/s]\n",
      "100%|███████████████████████████████████████████| 6/6 [00:00<00:00, 3710.68it/s]\n",
      "100%|███████████████████████████████████████████| 4/4 [00:00<00:00, 3196.88it/s]\n",
      "100%|███████████████████████████████████████████| 4/4 [00:00<00:00, 3326.83it/s]\n",
      "100%|███████████████████████████████████████████| 5/5 [00:00<00:00, 3674.06it/s]\n",
      "100%|███████████████████████████████████████████| 4/4 [00:00<00:00, 3076.69it/s]\n",
      "100%|███████████████████████████████████████████| 5/5 [00:00<00:00, 3576.32it/s]\n",
      "100%|███████████████████████████████████████████| 4/4 [00:00<00:00, 3330.13it/s]\n",
      "100%|███████████████████████████████████████████| 4/4 [00:00<00:00, 3041.55it/s]\n",
      "100%|███████████████████████████████████████████| 4/4 [00:00<00:00, 3289.65it/s]\n",
      "100%|███████████████████████████████████████████| 4/4 [00:00<00:00, 3342.07it/s]\n",
      "100%|███████████████████████████████████████████| 4/4 [00:00<00:00, 3303.25it/s]\n",
      "100%|███████████████████████████████████████████| 4/4 [00:00<00:00, 3369.60it/s]\n",
      "100%|███████████████████████████████████████████| 4/4 [00:00<00:00, 3081.78it/s]\n",
      "100%|███████████████████████████████████████████| 4/4 [00:00<00:00, 3164.32it/s]\n",
      "100%|███████████████████████████████████████████| 6/6 [00:00<00:00, 3569.11it/s]\n",
      "100%|███████████████████████████████████████████| 4/4 [00:00<00:00, 3228.25it/s]\n",
      "100%|███████████████████████████████████████████| 5/5 [00:00<00:00, 3531.15it/s]\n",
      "100%|███████████████████████████████████████████| 4/4 [00:00<00:00, 3313.69it/s]\n",
      "100%|███████████████████████████████████████████| 5/5 [00:00<00:00, 3690.22it/s]\n",
      "100%|███████████████████████████████████████████| 5/5 [00:00<00:00, 3513.41it/s]\n",
      "100%|███████████████████████████████████████████| 4/4 [00:00<00:00, 3367.57it/s]\n",
      "100%|███████████████████████████████████████████| 4/4 [00:00<00:00, 3392.76it/s]\n",
      "100%|███████████████████████████████████████████| 4/4 [00:00<00:00, 3336.76it/s]\n",
      "100%|███████████████████████████████████████████| 4/4 [00:00<00:00, 3474.98it/s]\n",
      "100%|███████████████████████████████████████████| 4/4 [00:00<00:00, 2456.76it/s]\n",
      "100%|███████████████████████████████████████████| 4/4 [00:00<00:00, 3490.16it/s]\n",
      "100%|███████████████████████████████████████████| 4/4 [00:00<00:00, 3103.44it/s]\n",
      "100%|███████████████████████████████████████████| 4/4 [00:00<00:00, 3625.94it/s]\n",
      "100%|███████████████████████████████████████████| 4/4 [00:00<00:00, 3303.25it/s]\n",
      "100%|███████████████████████████████████████████| 4/4 [00:00<00:00, 2648.76it/s]\n",
      "100%|███████████████████████████████████████████| 6/6 [00:00<00:00, 3125.02it/s]\n",
      "100%|███████████████████████████████████████████| 4/4 [00:00<00:00, 3238.84it/s]\n",
      "100%|███████████████████████████████████████████| 5/5 [00:00<00:00, 3300.52it/s]\n",
      "100%|███████████████████████████████████████████| 4/4 [00:00<00:00, 3085.75it/s]\n",
      "100%|███████████████████████████████████████████| 4/4 [00:00<00:00, 3130.08it/s]\n",
      "100%|███████████████████████████████████████████| 4/4 [00:00<00:00, 3154.80it/s]\n",
      "100%|███████████████████████████████████████████| 4/4 [00:00<00:00, 3002.90it/s]\n",
      "100%|███████████████████████████████████████████| 4/4 [00:00<00:00, 3019.11it/s]\n",
      "100%|███████████████████████████████████████████| 6/6 [00:00<00:00, 3444.54it/s]\n",
      "100%|███████████████████████████████████████████| 5/5 [00:00<00:00, 3289.13it/s]\n",
      "100%|███████████████████████████████████████████| 4/4 [00:00<00:00, 3005.59it/s]\n",
      "100%|███████████████████████████████████████████| 4/4 [00:00<00:00, 3194.44it/s]\n",
      "100%|███████████████████████████████████████████| 5/5 [00:00<00:00, 3337.29it/s]\n",
      "100%|███████████████████████████████████████████| 7/7 [00:00<00:00, 3724.96it/s]\n",
      "100%|███████████████████████████████████████████| 4/4 [00:00<00:00, 2907.16it/s]\n",
      "100%|███████████████████████████████████████████| 4/4 [00:00<00:00, 2963.13it/s]\n",
      "100%|███████████████████████████████████████████| 5/5 [00:00<00:00, 2691.07it/s]\n",
      "100%|███████████████████████████████████████████| 5/5 [00:00<00:00, 2857.16it/s]\n",
      "100%|███████████████████████████████████████████| 4/4 [00:00<00:00, 3152.43it/s]\n",
      "100%|███████████████████████████████████████████| 4/4 [00:00<00:00, 3058.19it/s]\n",
      "100%|███████████████████████████████████████████| 4/4 [00:00<00:00, 3336.76it/s]\n",
      "100%|███████████████████████████████████████████| 4/4 [00:00<00:00, 3174.50it/s]\n",
      "100%|███████████████████████████████████████████| 5/5 [00:00<00:00, 2953.74it/s]\n",
      "100%|███████████████████████████████████████████| 4/4 [00:00<00:00, 2570.43it/s]\n",
      "100%|███████████████████████████████████████████| 4/4 [00:00<00:00, 2877.74it/s]\n",
      "100%|███████████████████████████████████████████| 5/5 [00:00<00:00, 3131.01it/s]\n",
      "100%|███████████████████████████████████████████| 5/5 [00:00<00:00, 3207.14it/s]\n",
      "100%|███████████████████████████████████████████| 5/5 [00:00<00:00, 3093.60it/s]\n",
      "100%|███████████████████████████████████████████| 4/4 [00:00<00:00, 3037.15it/s]\n",
      "100%|███████████████████████████████████████████| 4/4 [00:00<00:00, 2736.01it/s]\n",
      "100%|███████████████████████████████████████████| 6/6 [00:00<00:00, 3078.39it/s]\n",
      "100%|███████████████████████████████████████████| 4/4 [00:00<00:00, 3189.58it/s]\n",
      "100%|███████████████████████████████████████████| 4/4 [00:00<00:00, 3286.43it/s]\n",
      "100%|███████████████████████████████████████████| 4/4 [00:00<00:00, 2903.64it/s]\n",
      "100%|███████████████████████████████████████████| 4/4 [00:00<00:00, 2823.02it/s]\n",
      "100%|███████████████████████████████████████████| 6/6 [00:00<00:00, 3504.99it/s]\n",
      "100%|███████████████████████████████████████████| 4/4 [00:00<00:00, 2967.32it/s]\n",
      "100%|███████████████████████████████████████████| 4/4 [00:00<00:00, 2963.13it/s]\n",
      "100%|███████████████████████████████████████████| 5/5 [00:00<00:00, 2935.54it/s]\n",
      "100%|███████████████████████████████████████████| 4/4 [00:00<00:00, 2564.15it/s]\n",
      "100%|███████████████████████████████████████████| 4/4 [00:00<00:00, 2848.91it/s]\n",
      "100%|███████████████████████████████████████████| 4/4 [00:00<00:00, 2510.81it/s]\n",
      "100%|███████████████████████████████████████████| 4/4 [00:00<00:00, 3125.41it/s]\n",
      "100%|███████████████████████████████████████████| 4/4 [00:00<00:00, 3192.62it/s]\n",
      "100%|███████████████████████████████████████████| 4/4 [00:00<00:00, 3021.29it/s]\n",
      "100%|███████████████████████████████████████████| 4/4 [00:00<00:00, 3151.83it/s]\n",
      "100%|███████████████████████████████████████████| 6/6 [00:00<00:00, 3481.71it/s]\n",
      "100%|███████████████████████████████████████████| 4/4 [00:00<00:00, 3071.63it/s]\n",
      "100%|███████████████████████████████████████████| 4/4 [00:00<00:00, 2047.00it/s]\n",
      "100%|███████████████████████████████████████████| 4/4 [00:00<00:00, 2969.42it/s]\n",
      "100%|███████████████████████████████████████████| 6/6 [00:00<00:00, 3616.82it/s]\n",
      "100%|███████████████████████████████████████████| 5/5 [00:00<00:00, 3054.40it/s]\n",
      "100%|███████████████████████████████████████████| 4/4 [00:00<00:00, 2286.97it/s]\n",
      "100%|███████████████████████████████████████████| 4/4 [00:00<00:00, 2934.62it/s]\n",
      "100%|███████████████████████████████████████████| 4/4 [00:00<00:00, 3252.66it/s]\n",
      "100%|███████████████████████████████████████████| 4/4 [00:00<00:00, 3244.48it/s]\n",
      "100%|███████████████████████████████████████████| 4/4 [00:00<00:00, 3141.80it/s]\n",
      "100%|███████████████████████████████████████████| 5/5 [00:00<00:00, 3349.01it/s]\n",
      "100%|███████████████████████████████████████████| 7/7 [00:00<00:00, 3689.85it/s]\n",
      "100%|███████████████████████████████████████████| 5/5 [00:00<00:00, 3280.90it/s]\n",
      "100%|███████████████████████████████████████████| 5/5 [00:00<00:00, 3469.81it/s]\n",
      "100%|███████████████████████████████████████████| 5/5 [00:00<00:00, 3242.35it/s]\n",
      "100%|███████████████████████████████████████████| 6/6 [00:00<00:00, 3741.02it/s]\n",
      "100%|███████████████████████████████████████████| 5/5 [00:00<00:00, 3586.10it/s]\n",
      "100%|███████████████████████████████████████████| 5/5 [00:00<00:00, 3565.98it/s]\n",
      "100%|███████████████████████████████████████████| 4/4 [00:00<00:00, 3378.42it/s]\n",
      "100%|███████████████████████████████████████████| 7/7 [00:00<00:00, 3470.46it/s]\n",
      "100%|███████████████████████████████████████████| 6/6 [00:00<00:00, 3325.73it/s]\n",
      "100%|███████████████████████████████████████████| 5/5 [00:00<00:00, 3142.74it/s]\n",
      "100%|███████████████████████████████████████████| 3/3 [00:00<00:00, 2685.79it/s]\n",
      "100%|███████████████████████████████████████████| 4/4 [00:00<00:00, 3149.47it/s]\n",
      "100%|███████████████████████████████████████████| 5/5 [00:00<00:00, 3373.80it/s]\n",
      "100%|███████████████████████████████████████████| 5/5 [00:00<00:00, 3467.51it/s]\n",
      "100%|███████████████████████████████████████████| 4/4 [00:00<00:00, 3164.92it/s]\n",
      "100%|███████████████████████████████████████████| 4/4 [00:00<00:00, 3202.37it/s]\n",
      "100%|███████████████████████████████████████████| 4/4 [00:00<00:00, 3436.55it/s]\n",
      "100%|███████████████████████████████████████████| 4/4 [00:00<00:00, 3316.97it/s]\n",
      "100%|███████████████████████████████████████████| 5/5 [00:00<00:00, 3533.53it/s]\n",
      "100%|███████████████████████████████████████████| 4/4 [00:00<00:00, 3000.75it/s]\n",
      "100%|███████████████████████████████████████████| 4/4 [00:00<00:00, 3246.37it/s]\n",
      "100%|███████████████████████████████████████████| 4/4 [00:00<00:00, 3520.93it/s]\n",
      "100%|███████████████████████████████████████████| 4/4 [00:00<00:00, 3390.02it/s]\n",
      "100%|███████████████████████████████████████████| 5/5 [00:00<00:00, 3364.59it/s]\n",
      "100%|███████████████████████████████████████████| 4/4 [00:00<00:00, 2787.38it/s]\n",
      "100%|███████████████████████████████████████████| 4/4 [00:00<00:00, 3348.08it/s]\n",
      "100%|███████████████████████████████████████████| 4/4 [00:00<00:00, 3439.36it/s]\n",
      "100%|█████████████████████████████████████| 2424/2424 [00:01<00:00, 1287.85it/s]\n"
     ]
    }
   ],
   "source": [
    "vest_base = do_smart_repair(vest_base, min_rook_length = 30.5)"
   ]
  },
  {
   "cell_type": "code",
   "execution_count": 33,
   "metadata": {},
   "outputs": [
    {
     "name": "stderr",
     "output_type": "stream",
     "text": [
      "100%|█████████████████████████████████████| 2424/2424 [00:01<00:00, 1335.60it/s]\n"
     ]
    },
    {
     "data": {
      "text/plain": [
       "True"
      ]
     },
     "execution_count": 33,
     "metadata": {},
     "output_type": "execute_result"
    }
   ],
   "source": [
    "maup.doctor(vest_base)"
   ]
  },
  {
   "cell_type": "markdown",
   "metadata": {},
   "source": [
    "### If it is true for maup doctor, we will use it as the base vest data.\n"
   ]
  },
  {
   "cell_type": "code",
   "execution_count": 35,
   "metadata": {},
   "outputs": [
    {
     "name": "stderr",
     "output_type": "stream",
     "text": [
      "100%|█████████████████████████████████████| 2424/2424 [00:01<00:00, 1720.89it/s]\n",
      "100%|██████████████████████████████████████| 2424/2424 [00:07<00:00, 309.14it/s]\n"
     ]
    }
   ],
   "source": [
    "# vap and population have the same GEOID20\n",
    "blocks_to_precincts_assignment = maup.assign(population_df.geometry, vest_base.geometry)"
   ]
  },
  {
   "cell_type": "code",
   "execution_count": 36,
   "metadata": {},
   "outputs": [],
   "source": [
    "pop_col = ['TOTPOP', 'HISP', 'NH_WHITE', 'NH_BLACK', 'NH_AMIN', 'NH_ASIAN', 'NH_NHPI', 'NH_OTHER', 'NH_2MORE', 'H_WHITE', 'H_BLACK', 'H_AMIN', 'H_ASIAN', 'H_NHPI', 'H_OTHER', 'H_2MORE', 'VAP', 'HVAP', 'WVAP', 'BVAP', 'AMINVAP', 'ASIANVAP', 'NHPIVAP', 'OTHERVAP', '2MOREVAP']"
   ]
  },
  {
   "cell_type": "code",
   "execution_count": 37,
   "metadata": {},
   "outputs": [],
   "source": [
    "vest_base[pop_col] = population_df[pop_col].groupby(blocks_to_precincts_assignment).sum()"
   ]
  },
  {
   "cell_type": "code",
   "execution_count": 38,
   "metadata": {},
   "outputs": [],
   "source": [
    "election_df = gpd.GeoDataFrame(vest_base)"
   ]
  },
  {
   "cell_type": "code",
   "execution_count": 39,
   "metadata": {},
   "outputs": [
    {
     "data": {
      "text/plain": [
       "Index(['ATG20D', 'ATG20O', 'ATG20R', 'AUD20O', 'AUD20R', 'CountyID', 'GOV20D',\n",
       "       'GOV20O', 'GOV20R', 'PRE20D', 'PRE20O', 'PRE20R', 'TRE20O', 'TRE20R',\n",
       "       'geometry', 'resultspre', 'vistapre', 'TOTPOP', 'HISP', 'NH_WHITE',\n",
       "       'NH_BLACK', 'NH_AMIN', 'NH_ASIAN', 'NH_NHPI', 'NH_OTHER', 'NH_2MORE',\n",
       "       'H_WHITE', 'H_BLACK', 'H_AMIN', 'H_ASIAN', 'H_NHPI', 'H_OTHER',\n",
       "       'H_2MORE', 'VAP', 'HVAP', 'WVAP', 'BVAP', 'AMINVAP', 'ASIANVAP',\n",
       "       'NHPIVAP', 'OTHERVAP', '2MOREVAP'],\n",
       "      dtype='object')"
      ]
     },
     "execution_count": 39,
     "metadata": {},
     "output_type": "execute_result"
    }
   ],
   "source": [
    "election_df.columns"
   ]
  },
  {
   "cell_type": "markdown",
   "metadata": {},
   "source": [
    "## Check if population agrees"
   ]
  },
  {
   "cell_type": "code",
   "execution_count": 41,
   "metadata": {},
   "outputs": [
    {
     "name": "stdout",
     "output_type": "stream",
     "text": [
      "population agrees\n"
     ]
    }
   ],
   "source": [
    "check_population(population_df, vest_base)"
   ]
  },
  {
   "cell_type": "code",
   "execution_count": 42,
   "metadata": {},
   "outputs": [
    {
     "data": {
      "text/plain": [
       "Index(['ATG20D', 'ATG20O', 'ATG20R', 'AUD20O', 'AUD20R', 'CountyID', 'GOV20D',\n",
       "       'GOV20O', 'GOV20R', 'PRE20D', 'PRE20O', 'PRE20R', 'TRE20O', 'TRE20R',\n",
       "       'geometry', 'resultspre', 'vistapre', 'TOTPOP', 'HISP', 'NH_WHITE',\n",
       "       'NH_BLACK', 'NH_AMIN', 'NH_ASIAN', 'NH_NHPI', 'NH_OTHER', 'NH_2MORE',\n",
       "       'H_WHITE', 'H_BLACK', 'H_AMIN', 'H_ASIAN', 'H_NHPI', 'H_OTHER',\n",
       "       'H_2MORE', 'VAP', 'HVAP', 'WVAP', 'BVAP', 'AMINVAP', 'ASIANVAP',\n",
       "       'NHPIVAP', 'OTHERVAP', '2MOREVAP'],\n",
       "      dtype='object')"
      ]
     },
     "execution_count": 42,
     "metadata": {},
     "output_type": "execute_result"
    }
   ],
   "source": [
    "election_df.columns"
   ]
  },
  {
   "cell_type": "markdown",
   "metadata": {},
   "source": [
    "##  Add the district data"
   ]
  },
  {
   "cell_type": "code",
   "execution_count": 44,
   "metadata": {},
   "outputs": [],
   "source": [
    "cong_df = gpd.read_file(cd_data)\n",
    "cong_df = cong_df.to_crs(cong_df.estimate_utm_crs())\n",
    "send = gpd.read_file(send_data)\n",
    "send = send.to_crs(send.estimate_utm_crs())\n",
    "hdist = gpd.read_file(hdist_data)\n",
    "hdist = hdist.to_crs(hdist.estimate_utm_crs())"
   ]
  },
  {
   "cell_type": "code",
   "execution_count": 45,
   "metadata": {},
   "outputs": [
    {
     "data": {
      "text/html": [
       "<div>\n",
       "<style scoped>\n",
       "    .dataframe tbody tr th:only-of-type {\n",
       "        vertical-align: middle;\n",
       "    }\n",
       "\n",
       "    .dataframe tbody tr th {\n",
       "        vertical-align: top;\n",
       "    }\n",
       "\n",
       "    .dataframe thead th {\n",
       "        text-align: right;\n",
       "    }\n",
       "</style>\n",
       "<table border=\"1\" class=\"dataframe\">\n",
       "  <thead>\n",
       "    <tr style=\"text-align: right;\">\n",
       "      <th></th>\n",
       "      <th>DISTRICTNO</th>\n",
       "      <th>TAPERSONS</th>\n",
       "      <th>VAPERSONS</th>\n",
       "      <th>geometry</th>\n",
       "    </tr>\n",
       "  </thead>\n",
       "  <tbody>\n",
       "    <tr>\n",
       "      <th>0</th>\n",
       "      <td>1.0</td>\n",
       "      <td>817904.0</td>\n",
       "      <td>584771.0</td>\n",
       "      <td>POLYGON ((374537.211 4548366.993, 373922.275 4...</td>\n",
       "    </tr>\n",
       "    <tr>\n",
       "      <th>1</th>\n",
       "      <td>2.0</td>\n",
       "      <td>817904.0</td>\n",
       "      <td>594250.0</td>\n",
       "      <td>POLYGON ((230239.697 4158164.412, 230243.313 4...</td>\n",
       "    </tr>\n",
       "    <tr>\n",
       "      <th>2</th>\n",
       "      <td>3.0</td>\n",
       "      <td>817904.0</td>\n",
       "      <td>592597.0</td>\n",
       "      <td>POLYGON ((422481.576 4479126.873, 422483.194 4...</td>\n",
       "    </tr>\n",
       "    <tr>\n",
       "      <th>3</th>\n",
       "      <td>4.0</td>\n",
       "      <td>817904.0</td>\n",
       "      <td>552433.0</td>\n",
       "      <td>POLYGON ((383722.782 4379271.884, 383883.006 4...</td>\n",
       "    </tr>\n",
       "  </tbody>\n",
       "</table>\n",
       "</div>"
      ],
      "text/plain": [
       "   DISTRICTNO  TAPERSONS  VAPERSONS  \\\n",
       "0         1.0   817904.0   584771.0   \n",
       "1         2.0   817904.0   594250.0   \n",
       "2         3.0   817904.0   592597.0   \n",
       "3         4.0   817904.0   552433.0   \n",
       "\n",
       "                                            geometry  \n",
       "0  POLYGON ((374537.211 4548366.993, 373922.275 4...  \n",
       "1  POLYGON ((230239.697 4158164.412, 230243.313 4...  \n",
       "2  POLYGON ((422481.576 4479126.873, 422483.194 4...  \n",
       "3  POLYGON ((383722.782 4379271.884, 383883.006 4...  "
      ]
     },
     "execution_count": 45,
     "metadata": {},
     "output_type": "execute_result"
    }
   ],
   "source": [
    "cong_df.head()"
   ]
  },
  {
   "cell_type": "code",
   "execution_count": 46,
   "metadata": {},
   "outputs": [
    {
     "data": {
      "text/plain": [
       "{1.0, 2.0, 3.0, 4.0}"
      ]
     },
     "execution_count": 46,
     "metadata": {},
     "output_type": "execute_result"
    }
   ],
   "source": [
    "set(cong_df['DISTRICTNO'])"
   ]
  },
  {
   "cell_type": "code",
   "execution_count": 47,
   "metadata": {},
   "outputs": [
    {
     "name": "stderr",
     "output_type": "stream",
     "text": [
      "100%|█████████████████████████████████████████████| 4/4 [00:00<00:00, 75.43it/s]\n",
      "100%|█████████████████████████████████████████████| 4/4 [00:00<00:00, 93.14it/s]\n",
      "100%|█████████████████████████████████████████████| 4/4 [00:00<00:00, 10.87it/s]\n"
     ]
    }
   ],
   "source": [
    "election_df = add_district(cong_df, \"CD\", election_df, \"DISTRICTNO\")"
   ]
  },
  {
   "cell_type": "code",
   "execution_count": 48,
   "metadata": {},
   "outputs": [
    {
     "data": {
      "text/html": [
       "<div>\n",
       "<style scoped>\n",
       "    .dataframe tbody tr th:only-of-type {\n",
       "        vertical-align: middle;\n",
       "    }\n",
       "\n",
       "    .dataframe tbody tr th {\n",
       "        vertical-align: top;\n",
       "    }\n",
       "\n",
       "    .dataframe thead th {\n",
       "        text-align: right;\n",
       "    }\n",
       "</style>\n",
       "<table border=\"1\" class=\"dataframe\">\n",
       "  <thead>\n",
       "    <tr style=\"text-align: right;\">\n",
       "      <th></th>\n",
       "      <th>DISTRICTNO</th>\n",
       "      <th>TAPERSONS</th>\n",
       "      <th>VAPERSONS</th>\n",
       "      <th>geometry</th>\n",
       "    </tr>\n",
       "  </thead>\n",
       "  <tbody>\n",
       "    <tr>\n",
       "      <th>0</th>\n",
       "      <td>1.0</td>\n",
       "      <td>110855.0</td>\n",
       "      <td>73770.0</td>\n",
       "      <td>POLYGON ((242780.546 4508799.493, 242781.181 4...</td>\n",
       "    </tr>\n",
       "    <tr>\n",
       "      <th>1</th>\n",
       "      <td>2.0</td>\n",
       "      <td>111491.0</td>\n",
       "      <td>80463.0</td>\n",
       "      <td>POLYGON ((403427.503 4650009.510, 403447.485 4...</td>\n",
       "    </tr>\n",
       "    <tr>\n",
       "      <th>2</th>\n",
       "      <td>3.0</td>\n",
       "      <td>112971.0</td>\n",
       "      <td>81369.0</td>\n",
       "      <td>POLYGON ((414912.046 4574915.675, 414992.884 4...</td>\n",
       "    </tr>\n",
       "    <tr>\n",
       "      <th>3</th>\n",
       "      <td>4.0</td>\n",
       "      <td>113791.0</td>\n",
       "      <td>78686.0</td>\n",
       "      <td>POLYGON ((374546.575 4548378.937, 375420.477 4...</td>\n",
       "    </tr>\n",
       "    <tr>\n",
       "      <th>4</th>\n",
       "      <td>5.0</td>\n",
       "      <td>112790.0</td>\n",
       "      <td>82763.0</td>\n",
       "      <td>POLYGON ((412766.585 4552384.407, 412888.309 4...</td>\n",
       "    </tr>\n",
       "  </tbody>\n",
       "</table>\n",
       "</div>"
      ],
      "text/plain": [
       "   DISTRICTNO  TAPERSONS  VAPERSONS  \\\n",
       "0         1.0   110855.0    73770.0   \n",
       "1         2.0   111491.0    80463.0   \n",
       "2         3.0   112971.0    81369.0   \n",
       "3         4.0   113791.0    78686.0   \n",
       "4         5.0   112790.0    82763.0   \n",
       "\n",
       "                                            geometry  \n",
       "0  POLYGON ((242780.546 4508799.493, 242781.181 4...  \n",
       "1  POLYGON ((403427.503 4650009.510, 403447.485 4...  \n",
       "2  POLYGON ((414912.046 4574915.675, 414992.884 4...  \n",
       "3  POLYGON ((374546.575 4548378.937, 375420.477 4...  \n",
       "4  POLYGON ((412766.585 4552384.407, 412888.309 4...  "
      ]
     },
     "execution_count": 48,
     "metadata": {},
     "output_type": "execute_result"
    }
   ],
   "source": [
    "send.head()"
   ]
  },
  {
   "cell_type": "code",
   "execution_count": 49,
   "metadata": {},
   "outputs": [
    {
     "data": {
      "text/plain": [
       "29"
      ]
     },
     "execution_count": 49,
     "metadata": {},
     "output_type": "execute_result"
    }
   ],
   "source": [
    "len(set(send['DISTRICTNO']))"
   ]
  },
  {
   "cell_type": "code",
   "execution_count": 50,
   "metadata": {},
   "outputs": [
    {
     "data": {
      "text/html": [
       "<div>\n",
       "<style scoped>\n",
       "    .dataframe tbody tr th:only-of-type {\n",
       "        vertical-align: middle;\n",
       "    }\n",
       "\n",
       "    .dataframe tbody tr th {\n",
       "        vertical-align: top;\n",
       "    }\n",
       "\n",
       "    .dataframe thead th {\n",
       "        text-align: right;\n",
       "    }\n",
       "</style>\n",
       "<table border=\"1\" class=\"dataframe\">\n",
       "  <thead>\n",
       "    <tr style=\"text-align: right;\">\n",
       "      <th></th>\n",
       "      <th>DISTRICTNO</th>\n",
       "      <th>TAPERSONS</th>\n",
       "      <th>VAPERSONS</th>\n",
       "      <th>geometry</th>\n",
       "    </tr>\n",
       "  </thead>\n",
       "  <tbody>\n",
       "    <tr>\n",
       "      <th>0</th>\n",
       "      <td>1.0</td>\n",
       "      <td>43137.0</td>\n",
       "      <td>29337.0</td>\n",
       "      <td>POLYGON ((244150.898 4543388.757, 244190.257 4...</td>\n",
       "    </tr>\n",
       "    <tr>\n",
       "      <th>1</th>\n",
       "      <td>2.0</td>\n",
       "      <td>43892.0</td>\n",
       "      <td>29836.0</td>\n",
       "      <td>POLYGON ((413372.548 4632267.976, 413387.693 4...</td>\n",
       "    </tr>\n",
       "    <tr>\n",
       "      <th>2</th>\n",
       "      <td>3.0</td>\n",
       "      <td>43860.0</td>\n",
       "      <td>34965.0</td>\n",
       "      <td>POLYGON ((425028.946 4622343.852, 425049.196 4...</td>\n",
       "    </tr>\n",
       "    <tr>\n",
       "      <th>3</th>\n",
       "      <td>4.0</td>\n",
       "      <td>43697.0</td>\n",
       "      <td>31102.0</td>\n",
       "      <td>POLYGON ((428054.244 4554352.045, 428054.988 4...</td>\n",
       "    </tr>\n",
       "    <tr>\n",
       "      <th>4</th>\n",
       "      <td>5.0</td>\n",
       "      <td>43323.0</td>\n",
       "      <td>27924.0</td>\n",
       "      <td>POLYGON ((412478.969 4617021.002, 412493.041 4...</td>\n",
       "    </tr>\n",
       "  </tbody>\n",
       "</table>\n",
       "</div>"
      ],
      "text/plain": [
       "   DISTRICTNO  TAPERSONS  VAPERSONS  \\\n",
       "0         1.0    43137.0    29337.0   \n",
       "1         2.0    43892.0    29836.0   \n",
       "2         3.0    43860.0    34965.0   \n",
       "3         4.0    43697.0    31102.0   \n",
       "4         5.0    43323.0    27924.0   \n",
       "\n",
       "                                            geometry  \n",
       "0  POLYGON ((244150.898 4543388.757, 244190.257 4...  \n",
       "1  POLYGON ((413372.548 4632267.976, 413387.693 4...  \n",
       "2  POLYGON ((425028.946 4622343.852, 425049.196 4...  \n",
       "3  POLYGON ((428054.244 4554352.045, 428054.988 4...  \n",
       "4  POLYGON ((412478.969 4617021.002, 412493.041 4...  "
      ]
     },
     "execution_count": 50,
     "metadata": {},
     "output_type": "execute_result"
    }
   ],
   "source": [
    "hdist.head()"
   ]
  },
  {
   "cell_type": "code",
   "execution_count": 51,
   "metadata": {},
   "outputs": [
    {
     "data": {
      "text/plain": [
       "75"
      ]
     },
     "execution_count": 51,
     "metadata": {},
     "output_type": "execute_result"
    }
   ],
   "source": [
    "len(set(hdist['DISTRICTNO']))"
   ]
  },
  {
   "cell_type": "code",
   "execution_count": 52,
   "metadata": {},
   "outputs": [
    {
     "name": "stderr",
     "output_type": "stream",
     "text": [
      "100%|██████████████████████████████████████████| 29/29 [00:00<00:00, 170.75it/s]\n",
      "100%|██████████████████████████████████████████| 29/29 [00:00<00:00, 422.63it/s]\n",
      "100%|███████████████████████████████████████████| 29/29 [00:00<00:00, 34.05it/s]\n"
     ]
    }
   ],
   "source": [
    "election_df = add_district(send, \"SEND\", election_df, \"DISTRICTNO\")"
   ]
  },
  {
   "cell_type": "code",
   "execution_count": 53,
   "metadata": {},
   "outputs": [
    {
     "name": "stderr",
     "output_type": "stream",
     "text": [
      "100%|██████████████████████████████████████████| 75/75 [00:00<00:00, 322.20it/s]\n",
      "100%|█████████████████████████████████████████| 75/75 [00:00<00:00, 1050.18it/s]\n",
      "100%|███████████████████████████████████████████| 75/75 [00:00<00:00, 84.94it/s]\n"
     ]
    }
   ],
   "source": [
    "election_df = add_district(hdist, \"HDIST\", election_df, \"DISTRICTNO\")"
   ]
  },
  {
   "cell_type": "code",
   "execution_count": 54,
   "metadata": {},
   "outputs": [
    {
     "data": {
      "text/plain": [
       "['ATG20D',\n",
       " 'ATG20O',\n",
       " 'ATG20R',\n",
       " 'AUD20O',\n",
       " 'AUD20R',\n",
       " 'CountyID',\n",
       " 'GOV20D',\n",
       " 'GOV20O',\n",
       " 'GOV20R',\n",
       " 'PRE20D',\n",
       " 'PRE20O',\n",
       " 'PRE20R',\n",
       " 'TRE20O',\n",
       " 'TRE20R',\n",
       " 'geometry',\n",
       " 'resultspre',\n",
       " 'vistapre',\n",
       " 'TOTPOP',\n",
       " 'HISP',\n",
       " 'NH_WHITE',\n",
       " 'NH_BLACK',\n",
       " 'NH_AMIN',\n",
       " 'NH_ASIAN',\n",
       " 'NH_NHPI',\n",
       " 'NH_OTHER',\n",
       " 'NH_2MORE',\n",
       " 'H_WHITE',\n",
       " 'H_BLACK',\n",
       " 'H_AMIN',\n",
       " 'H_ASIAN',\n",
       " 'H_NHPI',\n",
       " 'H_OTHER',\n",
       " 'H_2MORE',\n",
       " 'VAP',\n",
       " 'HVAP',\n",
       " 'WVAP',\n",
       " 'BVAP',\n",
       " 'AMINVAP',\n",
       " 'ASIANVAP',\n",
       " 'NHPIVAP',\n",
       " 'OTHERVAP',\n",
       " '2MOREVAP',\n",
       " 'CD',\n",
       " 'SEND',\n",
       " 'HDIST']"
      ]
     },
     "execution_count": 54,
     "metadata": {},
     "output_type": "execute_result"
    }
   ],
   "source": [
    "list(election_df.columns)"
   ]
  },
  {
   "cell_type": "markdown",
   "metadata": {},
   "source": [
    "### Put the base precinct year after the precinct information column"
   ]
  },
  {
   "cell_type": "code",
   "execution_count": 56,
   "metadata": {},
   "outputs": [],
   "source": [
    "base_columns = {}\n",
    "if 'COUNTYFP' + year not in election_df.columns:\n",
    "    base_columns = {\n",
    "        'CountyID':'CountyID'+year,\n",
    "        'vistapre':'vistapre'+year,\n",
    "        'resultspre':'resultspre'+year}\n",
    "election_df.rename(columns=base_columns, inplace = True)"
   ]
  },
  {
   "cell_type": "code",
   "execution_count": 57,
   "metadata": {},
   "outputs": [
    {
     "data": {
      "text/plain": [
       "Index(['ATG20D', 'ATG20O', 'ATG20R', 'AUD20O', 'AUD20R', 'CountyID20',\n",
       "       'GOV20D', 'GOV20O', 'GOV20R', 'PRE20D', 'PRE20O', 'PRE20R', 'TRE20O',\n",
       "       'TRE20R', 'geometry', 'resultspre20', 'vistapre20', 'TOTPOP', 'HISP',\n",
       "       'NH_WHITE', 'NH_BLACK', 'NH_AMIN', 'NH_ASIAN', 'NH_NHPI', 'NH_OTHER',\n",
       "       'NH_2MORE', 'H_WHITE', 'H_BLACK', 'H_AMIN', 'H_ASIAN', 'H_NHPI',\n",
       "       'H_OTHER', 'H_2MORE', 'VAP', 'HVAP', 'WVAP', 'BVAP', 'AMINVAP',\n",
       "       'ASIANVAP', 'NHPIVAP', 'OTHERVAP', '2MOREVAP', 'CD', 'SEND', 'HDIST'],\n",
       "      dtype='object')"
      ]
     },
     "execution_count": 57,
     "metadata": {},
     "output_type": "execute_result"
    }
   ],
   "source": [
    "election_df.columns"
   ]
  },
  {
   "cell_type": "code",
   "execution_count": 58,
   "metadata": {},
   "outputs": [],
   "source": [
    "# reorder the columns\n",
    "fixed_columns = [\n",
    "    'CountyID'+year,\n",
    "    'vistapre'+year,\n",
    "    'resultspre'+year,\n",
    "    'CD',\n",
    "    'SEND',\n",
    "    'HDIST',\n",
    "    'TOTPOP',\n",
    "    'NH_2MORE',\n",
    "    'NH_AMIN',\n",
    "    'NH_ASIAN',\n",
    "    'NH_BLACK',\n",
    "    'NH_NHPI',\n",
    "    'NH_OTHER',\n",
    "    'NH_WHITE',\n",
    "    'HISP',\n",
    "    'H_AMIN',\n",
    "    'H_ASIAN',\n",
    "    'H_BLACK',\n",
    "    'H_NHPI',\n",
    "    'H_OTHER',\n",
    "    'H_WHITE',\n",
    "    'H_2MORE',\n",
    "    'VAP',\n",
    "    'HVAP',\n",
    "    'WVAP',\n",
    "    'BVAP',\n",
    "    'AMINVAP',\n",
    "    'ASIANVAP',\n",
    "    'NHPIVAP',\n",
    "    'OTHERVAP',\n",
    "    '2MOREVAP']\n",
    "\n",
    "election_columns = [col for col in election_df.columns if col not in fixed_columns]\n",
    "final_col = fixed_columns + election_columns\n",
    "election_df = election_df[final_col]"
   ]
  },
  {
   "cell_type": "code",
   "execution_count": 59,
   "metadata": {},
   "outputs": [],
   "source": [
    "os.makedirs(\"./{}\".format(state_ab), exist_ok=True)\n",
    "election_df.to_file(\"./{}/{}.shp\".format(state_ab, state_ab))\n",
    "election_df.to_file('./{}/{}.geojson'.format(state_ab, state_ab), driver='GeoJSON')\n",
    "\n",
    "# Only do once to build json and read from file when generating ensembles\n",
    "graph = Graph.from_file(\"./{}/{}.shp\".format(state_ab, state_ab), ignore_errors=True)\n",
    "graph.to_json(\"./{}.json\".format(state_ab, state_ab))"
   ]
  },
  {
   "cell_type": "code",
   "execution_count": 60,
   "metadata": {},
   "outputs": [
    {
     "data": {
      "text/plain": [
       "<Axes: >"
      ]
     },
     "execution_count": 60,
     "metadata": {},
     "output_type": "execute_result"
    },
    {
     "data": {
      "image/png": "[encoded data removed]",
      "text/plain": [
       "<Figure size 640x480 with 1 Axes>"
      ]
     },
     "metadata": {},
     "output_type": "display_data"
    }
   ],
   "source": [
    "shapefile_path = \"./{}/{}.shp\".format(state_ab, state_ab)\n",
    "shape=gpd.read_file(shapefile_path)\n",
    "shape.plot()"
   ]
  }
 ],
 "metadata": {
  "kernelspec": {
   "display_name": "gerry",
   "language": "python",
   "name": "gerry"
  },
  "language_info": {
   "codemirror_mode": {
    "name": "ipython",
    "version": 3
   },
   "file_extension": ".py",
   "mimetype": "text/x-python",
   "name": "python",
   "nbconvert_exporter": "python",
   "pygments_lexer": "ipython3",
   "version": "3.11.4"
  }
 },
 "nbformat": 4,
 "nbformat_minor": 4
}
